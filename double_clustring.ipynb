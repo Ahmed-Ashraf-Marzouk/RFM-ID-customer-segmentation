{
 "cells": [
  {
   "cell_type": "code",
   "execution_count": 6,
   "metadata": {},
   "outputs": [],
   "source": [
    "# The code is developed for the paper \"Customer Segmentation Applied On RFM-ID Model\""
   ]
  },
  {
   "cell_type": "markdown",
   "metadata": {},
   "source": [
    "# Imports"
   ]
  },
  {
   "cell_type": "code",
   "execution_count": 1,
   "metadata": {},
   "outputs": [],
   "source": [
    "import pandas as pd\n",
    "import numpy as np\n",
    "import matplotlib.pyplot as plt\n",
    "import plotly.express as px\n",
    "from sklearn.preprocessing import StandardScaler\n",
    "from sklearn.cluster import KMeans\n",
    "from yellowbrick.cluster import KElbowVisualizer\n",
    "from sklearn.cluster import DBSCAN\n",
    "from minisom import MiniSom\n",
    "from scipy.cluster.hierarchy import dendrogram\n",
    "from sklearn.cluster import AgglomerativeClustering\n",
    "from sklearn.metrics import silhouette_score, calinski_harabasz_score, davies_bouldin_score\n",
    "from sklearn.preprocessing import MinMaxScaler\n",
    "from scipy.special import logsumexp"
   ]
  },
  {
   "cell_type": "markdown",
   "metadata": {},
   "source": [
    "# Loading Data "
   ]
  },
  {
   "cell_type": "markdown",
   "metadata": {},
   "source": [
    "~ Data Description ~\n",
    "\n",
    "InvoiceNo(Nominal): A 6-digit integral number uniquely assigned to each transaction. If this code starts with the letter 'c', it indicates a cancellation. \n",
    "\n",
    "StockCode(Nominal): Product (item) code. A 5-digit integral number uniquely assigned to each distinct product. \n",
    "\n",
    "Description(String):  Product (item) name. \n",
    "\n",
    "Quantity(Numeric): The quantities of each product (item) per transaction.\n",
    "\n",
    "InvoiceDate(Numeric): Invoice date and time. The day and time when a transaction was generated. \n",
    "\n",
    "UnitPrice(Numeric): Product price per unit in sterling (Â£). \n",
    "\n",
    "CustomerID(Nominal): A 5-digit integral number uniquely assigned to each customer. \n",
    "\n",
    "Country(Nominal): The name of the country where a customer resides.\n",
    "\n"
   ]
  },
  {
   "cell_type": "code",
   "execution_count": 4,
   "metadata": {},
   "outputs": [],
   "source": [
    "df_c = pd.read_csv('./data/online_retail.csv')"
   ]
  },
  {
   "cell_type": "code",
   "execution_count": 5,
   "metadata": {},
   "outputs": [
    {
     "name": "stdout",
     "output_type": "stream",
     "text": [
      "Number of records: 1067371\n"
     ]
    }
   ],
   "source": [
    "print(f\"Number of records: {df_c.shape[0]}\")"
   ]
  },
  {
   "cell_type": "code",
   "execution_count": 6,
   "metadata": {},
   "outputs": [
    {
     "data": {
      "text/html": [
       "<div>\n",
       "<style scoped>\n",
       "    .dataframe tbody tr th:only-of-type {\n",
       "        vertical-align: middle;\n",
       "    }\n",
       "\n",
       "    .dataframe tbody tr th {\n",
       "        vertical-align: top;\n",
       "    }\n",
       "\n",
       "    .dataframe thead th {\n",
       "        text-align: right;\n",
       "    }\n",
       "</style>\n",
       "<table border=\"1\" class=\"dataframe\">\n",
       "  <thead>\n",
       "    <tr style=\"text-align: right;\">\n",
       "      <th></th>\n",
       "      <th>Unnamed: 0</th>\n",
       "      <th>Invoice</th>\n",
       "      <th>StockCode</th>\n",
       "      <th>Description</th>\n",
       "      <th>Quantity</th>\n",
       "      <th>InvoiceDate</th>\n",
       "      <th>Price</th>\n",
       "      <th>Customer ID</th>\n",
       "      <th>Country</th>\n",
       "    </tr>\n",
       "  </thead>\n",
       "  <tbody>\n",
       "    <tr>\n",
       "      <th>0</th>\n",
       "      <td>0</td>\n",
       "      <td>489434</td>\n",
       "      <td>85048</td>\n",
       "      <td>15CM CHRISTMAS GLASS BALL 20 LIGHTS</td>\n",
       "      <td>12</td>\n",
       "      <td>2009-12-01 07:45:00</td>\n",
       "      <td>6.95</td>\n",
       "      <td>13085.0</td>\n",
       "      <td>United Kingdom</td>\n",
       "    </tr>\n",
       "    <tr>\n",
       "      <th>1</th>\n",
       "      <td>1</td>\n",
       "      <td>489434</td>\n",
       "      <td>79323P</td>\n",
       "      <td>PINK CHERRY LIGHTS</td>\n",
       "      <td>12</td>\n",
       "      <td>2009-12-01 07:45:00</td>\n",
       "      <td>6.75</td>\n",
       "      <td>13085.0</td>\n",
       "      <td>United Kingdom</td>\n",
       "    </tr>\n",
       "    <tr>\n",
       "      <th>2</th>\n",
       "      <td>2</td>\n",
       "      <td>489434</td>\n",
       "      <td>79323W</td>\n",
       "      <td>WHITE CHERRY LIGHTS</td>\n",
       "      <td>12</td>\n",
       "      <td>2009-12-01 07:45:00</td>\n",
       "      <td>6.75</td>\n",
       "      <td>13085.0</td>\n",
       "      <td>United Kingdom</td>\n",
       "    </tr>\n",
       "    <tr>\n",
       "      <th>3</th>\n",
       "      <td>3</td>\n",
       "      <td>489434</td>\n",
       "      <td>22041</td>\n",
       "      <td>RECORD FRAME 7\" SINGLE SIZE</td>\n",
       "      <td>48</td>\n",
       "      <td>2009-12-01 07:45:00</td>\n",
       "      <td>2.10</td>\n",
       "      <td>13085.0</td>\n",
       "      <td>United Kingdom</td>\n",
       "    </tr>\n",
       "    <tr>\n",
       "      <th>4</th>\n",
       "      <td>4</td>\n",
       "      <td>489434</td>\n",
       "      <td>21232</td>\n",
       "      <td>STRAWBERRY CERAMIC TRINKET BOX</td>\n",
       "      <td>24</td>\n",
       "      <td>2009-12-01 07:45:00</td>\n",
       "      <td>1.25</td>\n",
       "      <td>13085.0</td>\n",
       "      <td>United Kingdom</td>\n",
       "    </tr>\n",
       "    <tr>\n",
       "      <th>5</th>\n",
       "      <td>5</td>\n",
       "      <td>489434</td>\n",
       "      <td>22064</td>\n",
       "      <td>PINK DOUGHNUT TRINKET POT</td>\n",
       "      <td>24</td>\n",
       "      <td>2009-12-01 07:45:00</td>\n",
       "      <td>1.65</td>\n",
       "      <td>13085.0</td>\n",
       "      <td>United Kingdom</td>\n",
       "    </tr>\n",
       "    <tr>\n",
       "      <th>6</th>\n",
       "      <td>6</td>\n",
       "      <td>489434</td>\n",
       "      <td>21871</td>\n",
       "      <td>SAVE THE PLANET MUG</td>\n",
       "      <td>24</td>\n",
       "      <td>2009-12-01 07:45:00</td>\n",
       "      <td>1.25</td>\n",
       "      <td>13085.0</td>\n",
       "      <td>United Kingdom</td>\n",
       "    </tr>\n",
       "    <tr>\n",
       "      <th>7</th>\n",
       "      <td>7</td>\n",
       "      <td>489434</td>\n",
       "      <td>21523</td>\n",
       "      <td>FANCY FONT HOME SWEET HOME DOORMAT</td>\n",
       "      <td>10</td>\n",
       "      <td>2009-12-01 07:45:00</td>\n",
       "      <td>5.95</td>\n",
       "      <td>13085.0</td>\n",
       "      <td>United Kingdom</td>\n",
       "    </tr>\n",
       "    <tr>\n",
       "      <th>8</th>\n",
       "      <td>8</td>\n",
       "      <td>489435</td>\n",
       "      <td>22350</td>\n",
       "      <td>CAT BOWL</td>\n",
       "      <td>12</td>\n",
       "      <td>2009-12-01 07:46:00</td>\n",
       "      <td>2.55</td>\n",
       "      <td>13085.0</td>\n",
       "      <td>United Kingdom</td>\n",
       "    </tr>\n",
       "    <tr>\n",
       "      <th>9</th>\n",
       "      <td>9</td>\n",
       "      <td>489435</td>\n",
       "      <td>22349</td>\n",
       "      <td>DOG BOWL , CHASING BALL DESIGN</td>\n",
       "      <td>12</td>\n",
       "      <td>2009-12-01 07:46:00</td>\n",
       "      <td>3.75</td>\n",
       "      <td>13085.0</td>\n",
       "      <td>United Kingdom</td>\n",
       "    </tr>\n",
       "  </tbody>\n",
       "</table>\n",
       "</div>"
      ],
      "text/plain": [
       "   Unnamed: 0 Invoice StockCode                          Description  \\\n",
       "0           0  489434     85048  15CM CHRISTMAS GLASS BALL 20 LIGHTS   \n",
       "1           1  489434    79323P                   PINK CHERRY LIGHTS   \n",
       "2           2  489434    79323W                  WHITE CHERRY LIGHTS   \n",
       "3           3  489434     22041         RECORD FRAME 7\" SINGLE SIZE    \n",
       "4           4  489434     21232       STRAWBERRY CERAMIC TRINKET BOX   \n",
       "5           5  489434     22064           PINK DOUGHNUT TRINKET POT    \n",
       "6           6  489434     21871                  SAVE THE PLANET MUG   \n",
       "7           7  489434     21523   FANCY FONT HOME SWEET HOME DOORMAT   \n",
       "8           8  489435     22350                            CAT BOWL    \n",
       "9           9  489435     22349       DOG BOWL , CHASING BALL DESIGN   \n",
       "\n",
       "   Quantity          InvoiceDate  Price  Customer ID         Country  \n",
       "0        12  2009-12-01 07:45:00   6.95      13085.0  United Kingdom  \n",
       "1        12  2009-12-01 07:45:00   6.75      13085.0  United Kingdom  \n",
       "2        12  2009-12-01 07:45:00   6.75      13085.0  United Kingdom  \n",
       "3        48  2009-12-01 07:45:00   2.10      13085.0  United Kingdom  \n",
       "4        24  2009-12-01 07:45:00   1.25      13085.0  United Kingdom  \n",
       "5        24  2009-12-01 07:45:00   1.65      13085.0  United Kingdom  \n",
       "6        24  2009-12-01 07:45:00   1.25      13085.0  United Kingdom  \n",
       "7        10  2009-12-01 07:45:00   5.95      13085.0  United Kingdom  \n",
       "8        12  2009-12-01 07:46:00   2.55      13085.0  United Kingdom  \n",
       "9        12  2009-12-01 07:46:00   3.75      13085.0  United Kingdom  "
      ]
     },
     "execution_count": 6,
     "metadata": {},
     "output_type": "execute_result"
    }
   ],
   "source": [
    "df_c.head(10)"
   ]
  },
  {
   "cell_type": "code",
   "execution_count": 7,
   "metadata": {},
   "outputs": [
    {
     "data": {
      "text/html": [
       "<div>\n",
       "<style scoped>\n",
       "    .dataframe tbody tr th:only-of-type {\n",
       "        vertical-align: middle;\n",
       "    }\n",
       "\n",
       "    .dataframe tbody tr th {\n",
       "        vertical-align: top;\n",
       "    }\n",
       "\n",
       "    .dataframe thead th {\n",
       "        text-align: right;\n",
       "    }\n",
       "</style>\n",
       "<table border=\"1\" class=\"dataframe\">\n",
       "  <thead>\n",
       "    <tr style=\"text-align: right;\">\n",
       "      <th></th>\n",
       "      <th>Unnamed: 0</th>\n",
       "      <th>Quantity</th>\n",
       "      <th>Price</th>\n",
       "      <th>Customer ID</th>\n",
       "    </tr>\n",
       "  </thead>\n",
       "  <tbody>\n",
       "    <tr>\n",
       "      <th>count</th>\n",
       "      <td>1.067371e+06</td>\n",
       "      <td>1.067371e+06</td>\n",
       "      <td>1.067371e+06</td>\n",
       "      <td>824364.000000</td>\n",
       "    </tr>\n",
       "    <tr>\n",
       "      <th>mean</th>\n",
       "      <td>2.669056e+05</td>\n",
       "      <td>9.938898e+00</td>\n",
       "      <td>4.649388e+00</td>\n",
       "      <td>15324.638504</td>\n",
       "    </tr>\n",
       "    <tr>\n",
       "      <th>std</th>\n",
       "      <td>1.541715e+05</td>\n",
       "      <td>1.727058e+02</td>\n",
       "      <td>1.235531e+02</td>\n",
       "      <td>1697.464450</td>\n",
       "    </tr>\n",
       "    <tr>\n",
       "      <th>min</th>\n",
       "      <td>0.000000e+00</td>\n",
       "      <td>-8.099500e+04</td>\n",
       "      <td>-5.359436e+04</td>\n",
       "      <td>12346.000000</td>\n",
       "    </tr>\n",
       "    <tr>\n",
       "      <th>25%</th>\n",
       "      <td>1.334210e+05</td>\n",
       "      <td>1.000000e+00</td>\n",
       "      <td>1.250000e+00</td>\n",
       "      <td>13975.000000</td>\n",
       "    </tr>\n",
       "    <tr>\n",
       "      <th>50%</th>\n",
       "      <td>2.668420e+05</td>\n",
       "      <td>3.000000e+00</td>\n",
       "      <td>2.100000e+00</td>\n",
       "      <td>15255.000000</td>\n",
       "    </tr>\n",
       "    <tr>\n",
       "      <th>75%</th>\n",
       "      <td>4.002635e+05</td>\n",
       "      <td>1.000000e+01</td>\n",
       "      <td>4.150000e+00</td>\n",
       "      <td>16797.000000</td>\n",
       "    </tr>\n",
       "    <tr>\n",
       "      <th>max</th>\n",
       "      <td>5.419090e+05</td>\n",
       "      <td>8.099500e+04</td>\n",
       "      <td>3.897000e+04</td>\n",
       "      <td>18287.000000</td>\n",
       "    </tr>\n",
       "  </tbody>\n",
       "</table>\n",
       "</div>"
      ],
      "text/plain": [
       "         Unnamed: 0      Quantity         Price    Customer ID\n",
       "count  1.067371e+06  1.067371e+06  1.067371e+06  824364.000000\n",
       "mean   2.669056e+05  9.938898e+00  4.649388e+00   15324.638504\n",
       "std    1.541715e+05  1.727058e+02  1.235531e+02    1697.464450\n",
       "min    0.000000e+00 -8.099500e+04 -5.359436e+04   12346.000000\n",
       "25%    1.334210e+05  1.000000e+00  1.250000e+00   13975.000000\n",
       "50%    2.668420e+05  3.000000e+00  2.100000e+00   15255.000000\n",
       "75%    4.002635e+05  1.000000e+01  4.150000e+00   16797.000000\n",
       "max    5.419090e+05  8.099500e+04  3.897000e+04   18287.000000"
      ]
     },
     "execution_count": 7,
     "metadata": {},
     "output_type": "execute_result"
    }
   ],
   "source": [
    "df_c.describe()"
   ]
  },
  {
   "cell_type": "code",
   "execution_count": 8,
   "metadata": {},
   "outputs": [
    {
     "name": "stdout",
     "output_type": "stream",
     "text": [
      "<class 'pandas.core.frame.DataFrame'>\n",
      "RangeIndex: 1067371 entries, 0 to 1067370\n",
      "Data columns (total 9 columns):\n",
      " #   Column       Non-Null Count    Dtype  \n",
      "---  ------       --------------    -----  \n",
      " 0   Unnamed: 0   1067371 non-null  int64  \n",
      " 1   Invoice      1067371 non-null  object \n",
      " 2   StockCode    1067371 non-null  object \n",
      " 3   Description  1062989 non-null  object \n",
      " 4   Quantity     1067371 non-null  int64  \n",
      " 5   InvoiceDate  1067371 non-null  object \n",
      " 6   Price        1067371 non-null  float64\n",
      " 7   Customer ID  824364 non-null   float64\n",
      " 8   Country      1067371 non-null  object \n",
      "dtypes: float64(2), int64(2), object(5)\n",
      "memory usage: 73.3+ MB\n"
     ]
    }
   ],
   "source": [
    "df_c.info()"
   ]
  },
  {
   "cell_type": "markdown",
   "metadata": {},
   "source": [
    "# Pre-processing"
   ]
  },
  {
   "cell_type": "markdown",
   "metadata": {},
   "source": [
    "## Removing Null values"
   ]
  },
  {
   "cell_type": "code",
   "execution_count": 9,
   "metadata": {},
   "outputs": [],
   "source": [
    "null_values_percentage = round(100*(df_c.isnull().sum())/len(df_c), 2)"
   ]
  },
  {
   "cell_type": "code",
   "execution_count": 10,
   "metadata": {},
   "outputs": [
    {
     "data": {
      "text/plain": [
       "Unnamed: 0      0.00\n",
       "Invoice         0.00\n",
       "StockCode       0.00\n",
       "Description     0.41\n",
       "Quantity        0.00\n",
       "InvoiceDate     0.00\n",
       "Price           0.00\n",
       "Customer ID    22.77\n",
       "Country         0.00\n",
       "dtype: float64"
      ]
     },
     "execution_count": 10,
     "metadata": {},
     "output_type": "execute_result"
    }
   ],
   "source": [
    "null_values_percentage"
   ]
  },
  {
   "cell_type": "code",
   "execution_count": 11,
   "metadata": {},
   "outputs": [],
   "source": [
    "# As we see custoemr ID has around 22% percent of null values. We are will drop these columns."
   ]
  },
  {
   "cell_type": "markdown",
   "metadata": {},
   "source": []
  },
  {
   "cell_type": "code",
   "execution_count": 12,
   "metadata": {},
   "outputs": [],
   "source": [
    "df_proc = df_c.dropna() # pre-processed data frame (data_proc)"
   ]
  },
  {
   "cell_type": "code",
   "execution_count": 13,
   "metadata": {},
   "outputs": [
    {
     "data": {
      "text/html": [
       "<div>\n",
       "<style scoped>\n",
       "    .dataframe tbody tr th:only-of-type {\n",
       "        vertical-align: middle;\n",
       "    }\n",
       "\n",
       "    .dataframe tbody tr th {\n",
       "        vertical-align: top;\n",
       "    }\n",
       "\n",
       "    .dataframe thead th {\n",
       "        text-align: right;\n",
       "    }\n",
       "</style>\n",
       "<table border=\"1\" class=\"dataframe\">\n",
       "  <thead>\n",
       "    <tr style=\"text-align: right;\">\n",
       "      <th></th>\n",
       "      <th>Unnamed: 0</th>\n",
       "      <th>Quantity</th>\n",
       "      <th>Price</th>\n",
       "      <th>Customer ID</th>\n",
       "    </tr>\n",
       "  </thead>\n",
       "  <tbody>\n",
       "    <tr>\n",
       "      <th>count</th>\n",
       "      <td>824364.000000</td>\n",
       "      <td>824364.000000</td>\n",
       "      <td>824364.000000</td>\n",
       "      <td>824364.000000</td>\n",
       "    </tr>\n",
       "    <tr>\n",
       "      <th>mean</th>\n",
       "      <td>271491.670034</td>\n",
       "      <td>12.414574</td>\n",
       "      <td>3.676800</td>\n",
       "      <td>15324.638504</td>\n",
       "    </tr>\n",
       "    <tr>\n",
       "      <th>std</th>\n",
       "      <td>150554.198006</td>\n",
       "      <td>188.976099</td>\n",
       "      <td>70.241388</td>\n",
       "      <td>1697.464450</td>\n",
       "    </tr>\n",
       "    <tr>\n",
       "      <th>min</th>\n",
       "      <td>0.000000</td>\n",
       "      <td>-80995.000000</td>\n",
       "      <td>0.000000</td>\n",
       "      <td>12346.000000</td>\n",
       "    </tr>\n",
       "    <tr>\n",
       "      <th>25%</th>\n",
       "      <td>143189.750000</td>\n",
       "      <td>2.000000</td>\n",
       "      <td>1.250000</td>\n",
       "      <td>13975.000000</td>\n",
       "    </tr>\n",
       "    <tr>\n",
       "      <th>50%</th>\n",
       "      <td>275354.500000</td>\n",
       "      <td>5.000000</td>\n",
       "      <td>1.950000</td>\n",
       "      <td>15255.000000</td>\n",
       "    </tr>\n",
       "    <tr>\n",
       "      <th>75%</th>\n",
       "      <td>400531.250000</td>\n",
       "      <td>12.000000</td>\n",
       "      <td>3.750000</td>\n",
       "      <td>16797.000000</td>\n",
       "    </tr>\n",
       "    <tr>\n",
       "      <th>max</th>\n",
       "      <td>541909.000000</td>\n",
       "      <td>80995.000000</td>\n",
       "      <td>38970.000000</td>\n",
       "      <td>18287.000000</td>\n",
       "    </tr>\n",
       "  </tbody>\n",
       "</table>\n",
       "</div>"
      ],
      "text/plain": [
       "          Unnamed: 0       Quantity          Price    Customer ID\n",
       "count  824364.000000  824364.000000  824364.000000  824364.000000\n",
       "mean   271491.670034      12.414574       3.676800   15324.638504\n",
       "std    150554.198006     188.976099      70.241388    1697.464450\n",
       "min         0.000000  -80995.000000       0.000000   12346.000000\n",
       "25%    143189.750000       2.000000       1.250000   13975.000000\n",
       "50%    275354.500000       5.000000       1.950000   15255.000000\n",
       "75%    400531.250000      12.000000       3.750000   16797.000000\n",
       "max    541909.000000   80995.000000   38970.000000   18287.000000"
      ]
     },
     "execution_count": 13,
     "metadata": {},
     "output_type": "execute_result"
    }
   ],
   "source": [
    "df_proc.describe()"
   ]
  },
  {
   "cell_type": "markdown",
   "metadata": {},
   "source": [
    "## Removing Negative values"
   ]
  },
  {
   "cell_type": "code",
   "execution_count": 14,
   "metadata": {},
   "outputs": [],
   "source": [
    "df_proc = df_proc[~df_proc[\"Invoice\"].str.contains(\"C\", na = False)]"
   ]
  },
  {
   "cell_type": "markdown",
   "metadata": {},
   "source": [
    "## Removing Outliers"
   ]
  },
  {
   "cell_type": "code",
   "execution_count": 20,
   "metadata": {},
   "outputs": [
    {
     "data": {
      "text/html": [
       "<div>\n",
       "<style scoped>\n",
       "    .dataframe tbody tr th:only-of-type {\n",
       "        vertical-align: middle;\n",
       "    }\n",
       "\n",
       "    .dataframe tbody tr th {\n",
       "        vertical-align: top;\n",
       "    }\n",
       "\n",
       "    .dataframe thead th {\n",
       "        text-align: right;\n",
       "    }\n",
       "</style>\n",
       "<table border=\"1\" class=\"dataframe\">\n",
       "  <thead>\n",
       "    <tr style=\"text-align: right;\">\n",
       "      <th></th>\n",
       "      <th>Quantity</th>\n",
       "      <th>Price</th>\n",
       "    </tr>\n",
       "  </thead>\n",
       "  <tbody>\n",
       "    <tr>\n",
       "      <th>0</th>\n",
       "      <td>12</td>\n",
       "      <td>6.95</td>\n",
       "    </tr>\n",
       "    <tr>\n",
       "      <th>1</th>\n",
       "      <td>12</td>\n",
       "      <td>6.75</td>\n",
       "    </tr>\n",
       "    <tr>\n",
       "      <th>2</th>\n",
       "      <td>12</td>\n",
       "      <td>6.75</td>\n",
       "    </tr>\n",
       "    <tr>\n",
       "      <th>3</th>\n",
       "      <td>48</td>\n",
       "      <td>2.10</td>\n",
       "    </tr>\n",
       "    <tr>\n",
       "      <th>4</th>\n",
       "      <td>24</td>\n",
       "      <td>1.25</td>\n",
       "    </tr>\n",
       "    <tr>\n",
       "      <th>...</th>\n",
       "      <td>...</td>\n",
       "      <td>...</td>\n",
       "    </tr>\n",
       "    <tr>\n",
       "      <th>541905</th>\n",
       "      <td>6</td>\n",
       "      <td>2.10</td>\n",
       "    </tr>\n",
       "    <tr>\n",
       "      <th>541906</th>\n",
       "      <td>4</td>\n",
       "      <td>4.15</td>\n",
       "    </tr>\n",
       "    <tr>\n",
       "      <th>541907</th>\n",
       "      <td>4</td>\n",
       "      <td>4.15</td>\n",
       "    </tr>\n",
       "    <tr>\n",
       "      <th>541908</th>\n",
       "      <td>3</td>\n",
       "      <td>4.95</td>\n",
       "    </tr>\n",
       "    <tr>\n",
       "      <th>541909</th>\n",
       "      <td>1</td>\n",
       "      <td>18.00</td>\n",
       "    </tr>\n",
       "  </tbody>\n",
       "</table>\n",
       "<p>805620 rows × 2 columns</p>\n",
       "</div>"
      ],
      "text/plain": [
       "        Quantity  Price\n",
       "0             12   6.95\n",
       "1             12   6.75\n",
       "2             12   6.75\n",
       "3             48   2.10\n",
       "4             24   1.25\n",
       "...          ...    ...\n",
       "541905         6   2.10\n",
       "541906         4   4.15\n",
       "541907         4   4.15\n",
       "541908         3   4.95\n",
       "541909         1  18.00\n",
       "\n",
       "[805620 rows x 2 columns]"
      ]
     },
     "execution_count": 20,
     "metadata": {},
     "output_type": "execute_result"
    }
   ],
   "source": [
    "df_proc[[\"Quantity\", \"Price\"]]"
   ]
  },
  {
   "cell_type": "code",
   "execution_count": 21,
   "metadata": {},
   "outputs": [
    {
     "data": {
      "image/png": "[encoded data removed]",
      "text/plain": [
       "<Figure size 800x550 with 1 Axes>"
      ]
     },
     "metadata": {},
     "output_type": "display_data"
    }
   ],
   "source": [
    "df_proc[[\"Quantity\", \"Price\"]].boxplot()\n",
    "plt.show() # Why this line made it to work?"
   ]
  },
  {
   "cell_type": "code",
   "execution_count": 22,
   "metadata": {},
   "outputs": [],
   "source": [
    "# As we see, Quantity and Price have outliers. So, we will remove them."
   ]
  },
  {
   "cell_type": "code",
   "execution_count": 23,
   "metadata": {},
   "outputs": [],
   "source": [
    "# Removing outliers from the Quantity attribute\n",
    "Q1 = df_proc.Quantity.quantile(0.25)\n",
    "Q3 = df_proc.Quantity.quantile(0.75)\n",
    "IQR = Q3 - Q1\n",
    "lower_limit = Q1 - 1.5 * IQR\n",
    "upper_limit = Q3 + 1.5 * IQR\n",
    "\n",
    "df_proc = df_proc[(df_proc.Quantity>lower_limit)&(df_proc.Quantity<upper_limit)]\n"
   ]
  },
  {
   "cell_type": "code",
   "execution_count": 24,
   "metadata": {},
   "outputs": [],
   "source": [
    "# Removing outliers from the Price attribute\n",
    "Q1 = df_proc.Price.quantile(0.25)\n",
    "Q3 = df_proc.Price.quantile(0.75)\n",
    "IQR = Q3 - Q1\n",
    "lower_limit = Q1 - 1.5 * IQR\n",
    "upper_limit = Q3 + 1.5 * IQR\n",
    "\n",
    "df_proc = df_proc[(df_proc.Price>lower_limit)&(df_proc.Price<upper_limit)]\n"
   ]
  },
  {
   "cell_type": "code",
   "execution_count": 25,
   "metadata": {},
   "outputs": [
    {
     "data": {
      "image/png": "[encoded data removed]",
      "text/plain": [
       "<Figure size 800x550 with 1 Axes>"
      ]
     },
     "metadata": {},
     "output_type": "display_data"
    }
   ],
   "source": [
    "df_proc[[\"Quantity\", \"Price\"]].boxplot()\n",
    "plt.show() # Why this line made it to work?"
   ]
  },
  {
   "cell_type": "code",
   "execution_count": 26,
   "metadata": {},
   "outputs": [
    {
     "data": {
      "text/html": [
       "<div>\n",
       "<style scoped>\n",
       "    .dataframe tbody tr th:only-of-type {\n",
       "        vertical-align: middle;\n",
       "    }\n",
       "\n",
       "    .dataframe tbody tr th {\n",
       "        vertical-align: top;\n",
       "    }\n",
       "\n",
       "    .dataframe thead th {\n",
       "        text-align: right;\n",
       "    }\n",
       "</style>\n",
       "<table border=\"1\" class=\"dataframe\">\n",
       "  <thead>\n",
       "    <tr style=\"text-align: right;\">\n",
       "      <th></th>\n",
       "      <th>Quantity</th>\n",
       "      <th>InvoiceDate</th>\n",
       "      <th>Price</th>\n",
       "      <th>Customer ID</th>\n",
       "    </tr>\n",
       "  </thead>\n",
       "  <tbody>\n",
       "    <tr>\n",
       "      <th>count</th>\n",
       "      <td>686023.000000</td>\n",
       "      <td>686023</td>\n",
       "      <td>686023.000000</td>\n",
       "      <td>686023.000000</td>\n",
       "    </tr>\n",
       "    <tr>\n",
       "      <th>mean</th>\n",
       "      <td>7.299531</td>\n",
       "      <td>2011-01-02 12:08:08.844630784</td>\n",
       "      <td>2.269788</td>\n",
       "      <td>15362.101306</td>\n",
       "    </tr>\n",
       "    <tr>\n",
       "      <th>min</th>\n",
       "      <td>1.000000</td>\n",
       "      <td>2009-12-01 07:45:00</td>\n",
       "      <td>0.000000</td>\n",
       "      <td>12346.000000</td>\n",
       "    </tr>\n",
       "    <tr>\n",
       "      <th>25%</th>\n",
       "      <td>2.000000</td>\n",
       "      <td>2010-07-06 13:55:00</td>\n",
       "      <td>1.250000</td>\n",
       "      <td>14019.000000</td>\n",
       "    </tr>\n",
       "    <tr>\n",
       "      <th>50%</th>\n",
       "      <td>5.000000</td>\n",
       "      <td>2010-12-03 11:35:00</td>\n",
       "      <td>1.690000</td>\n",
       "      <td>15311.000000</td>\n",
       "    </tr>\n",
       "    <tr>\n",
       "      <th>75%</th>\n",
       "      <td>12.000000</td>\n",
       "      <td>2011-07-31 14:29:00</td>\n",
       "      <td>2.950000</td>\n",
       "      <td>16841.000000</td>\n",
       "    </tr>\n",
       "    <tr>\n",
       "      <th>max</th>\n",
       "      <td>26.000000</td>\n",
       "      <td>2011-12-09 12:50:00</td>\n",
       "      <td>7.490000</td>\n",
       "      <td>18287.000000</td>\n",
       "    </tr>\n",
       "    <tr>\n",
       "      <th>std</th>\n",
       "      <td>6.692578</td>\n",
       "      <td>NaN</td>\n",
       "      <td>1.599637</td>\n",
       "      <td>1694.422894</td>\n",
       "    </tr>\n",
       "  </tbody>\n",
       "</table>\n",
       "</div>"
      ],
      "text/plain": [
       "            Quantity                    InvoiceDate          Price  \\\n",
       "count  686023.000000                         686023  686023.000000   \n",
       "mean        7.299531  2011-01-02 12:08:08.844630784       2.269788   \n",
       "min         1.000000            2009-12-01 07:45:00       0.000000   \n",
       "25%         2.000000            2010-07-06 13:55:00       1.250000   \n",
       "50%         5.000000            2010-12-03 11:35:00       1.690000   \n",
       "75%        12.000000            2011-07-31 14:29:00       2.950000   \n",
       "max        26.000000            2011-12-09 12:50:00       7.490000   \n",
       "std         6.692578                            NaN       1.599637   \n",
       "\n",
       "         Customer ID  \n",
       "count  686023.000000  \n",
       "mean    15362.101306  \n",
       "min     12346.000000  \n",
       "25%     14019.000000  \n",
       "50%     15311.000000  \n",
       "75%     16841.000000  \n",
       "max     18287.000000  \n",
       "std      1694.422894  "
      ]
     },
     "execution_count": 26,
     "metadata": {},
     "output_type": "execute_result"
    }
   ],
   "source": [
    "df_proc.describe()"
   ]
  },
  {
   "cell_type": "code",
   "execution_count": null,
   "metadata": {},
   "outputs": [],
   "source": []
  },
  {
   "cell_type": "markdown",
   "metadata": {},
   "source": [
    "# RFMVD Score"
   ]
  },
  {
   "cell_type": "markdown",
   "metadata": {},
   "source": [
    "R(Recenecy): How recently did the customer purchase?\n",
    "\n",
    "F(Frequency): How often do they purchase?\n",
    "\n",
    "M(Monetary): How much do they spend?\n",
    "\n",
    "V(Variety): How many products sold by each customer?\n",
    "\n",
    "D(Duration): How much time between each two transactions?"
   ]
  },
  {
   "cell_type": "code",
   "execution_count": 27,
   "metadata": {},
   "outputs": [
    {
     "data": {
      "text/html": [
       "<div>\n",
       "<style scoped>\n",
       "    .dataframe tbody tr th:only-of-type {\n",
       "        vertical-align: middle;\n",
       "    }\n",
       "\n",
       "    .dataframe tbody tr th {\n",
       "        vertical-align: top;\n",
       "    }\n",
       "\n",
       "    .dataframe thead th {\n",
       "        text-align: right;\n",
       "    }\n",
       "</style>\n",
       "<table border=\"1\" class=\"dataframe\">\n",
       "  <thead>\n",
       "    <tr style=\"text-align: right;\">\n",
       "      <th></th>\n",
       "      <th>Description</th>\n",
       "    </tr>\n",
       "    <tr>\n",
       "      <th>StockCode</th>\n",
       "      <th></th>\n",
       "    </tr>\n",
       "  </thead>\n",
       "  <tbody>\n",
       "    <tr>\n",
       "      <th>21955</th>\n",
       "      <td>4</td>\n",
       "    </tr>\n",
       "    <tr>\n",
       "      <th>22346</th>\n",
       "      <td>4</td>\n",
       "    </tr>\n",
       "    <tr>\n",
       "      <th>22345</th>\n",
       "      <td>4</td>\n",
       "    </tr>\n",
       "    <tr>\n",
       "      <th>22344</th>\n",
       "      <td>4</td>\n",
       "    </tr>\n",
       "    <tr>\n",
       "      <th>23196</th>\n",
       "      <td>4</td>\n",
       "    </tr>\n",
       "  </tbody>\n",
       "</table>\n",
       "</div>"
      ],
      "text/plain": [
       "           Description\n",
       "StockCode             \n",
       "21955                4\n",
       "22346                4\n",
       "22345                4\n",
       "22344                4\n",
       "23196                4"
      ]
     },
     "execution_count": 27,
     "metadata": {},
     "output_type": "execute_result"
    }
   ],
   "source": [
    "# Numbber of descriptions per product for each StockCode.\n",
    "df_proc.groupby('StockCode').agg({'Description': \"nunique\"}).sort_values(by='Description', ascending=False).head()"
   ]
  },
  {
   "cell_type": "code",
   "execution_count": 28,
   "metadata": {},
   "outputs": [],
   "source": [
    "# From the above table we can see that each StockCode has more than one description. This is maybe because of non-standard human input."
   ]
  },
  {
   "cell_type": "markdown",
   "metadata": {},
   "source": [
    "## RFM"
   ]
  },
  {
   "cell_type": "code",
   "execution_count": 29,
   "metadata": {},
   "outputs": [
    {
     "data": {
      "text/html": [
       "<div>\n",
       "<style scoped>\n",
       "    .dataframe tbody tr th:only-of-type {\n",
       "        vertical-align: middle;\n",
       "    }\n",
       "\n",
       "    .dataframe tbody tr th {\n",
       "        vertical-align: top;\n",
       "    }\n",
       "\n",
       "    .dataframe thead th {\n",
       "        text-align: right;\n",
       "    }\n",
       "</style>\n",
       "<table border=\"1\" class=\"dataframe\">\n",
       "  <thead>\n",
       "    <tr style=\"text-align: right;\">\n",
       "      <th></th>\n",
       "      <th>Customer ID</th>\n",
       "      <th>Recency</th>\n",
       "    </tr>\n",
       "  </thead>\n",
       "  <tbody>\n",
       "    <tr>\n",
       "      <th>0</th>\n",
       "      <td>12346.0</td>\n",
       "      <td>528</td>\n",
       "    </tr>\n",
       "    <tr>\n",
       "      <th>1</th>\n",
       "      <td>12347.0</td>\n",
       "      <td>1</td>\n",
       "    </tr>\n",
       "    <tr>\n",
       "      <th>2</th>\n",
       "      <td>12348.0</td>\n",
       "      <td>248</td>\n",
       "    </tr>\n",
       "    <tr>\n",
       "      <th>3</th>\n",
       "      <td>12349.0</td>\n",
       "      <td>18</td>\n",
       "    </tr>\n",
       "    <tr>\n",
       "      <th>4</th>\n",
       "      <td>12350.0</td>\n",
       "      <td>309</td>\n",
       "    </tr>\n",
       "    <tr>\n",
       "      <th>5</th>\n",
       "      <td>12351.0</td>\n",
       "      <td>374</td>\n",
       "    </tr>\n",
       "    <tr>\n",
       "      <th>6</th>\n",
       "      <td>12352.0</td>\n",
       "      <td>35</td>\n",
       "    </tr>\n",
       "    <tr>\n",
       "      <th>7</th>\n",
       "      <td>12353.0</td>\n",
       "      <td>203</td>\n",
       "    </tr>\n",
       "    <tr>\n",
       "      <th>8</th>\n",
       "      <td>12354.0</td>\n",
       "      <td>231</td>\n",
       "    </tr>\n",
       "    <tr>\n",
       "      <th>9</th>\n",
       "      <td>12355.0</td>\n",
       "      <td>213</td>\n",
       "    </tr>\n",
       "  </tbody>\n",
       "</table>\n",
       "</div>"
      ],
      "text/plain": [
       "   Customer ID  Recency\n",
       "0      12346.0      528\n",
       "1      12347.0        1\n",
       "2      12348.0      248\n",
       "3      12349.0       18\n",
       "4      12350.0      309\n",
       "5      12351.0      374\n",
       "6      12352.0       35\n",
       "7      12353.0      203\n",
       "8      12354.0      231\n",
       "9      12355.0      213"
      ]
     },
     "execution_count": 29,
     "metadata": {},
     "output_type": "execute_result"
    }
   ],
   "source": [
    "# Recency\n",
    "\n",
    "# Max date\n",
    "df_proc['InvoiceDate'] = pd.to_datetime(df_proc['InvoiceDate'],format='%d-%m-%Y %H:%M')\n",
    "max_date = df_proc['InvoiceDate'].max()\n",
    "max_date\n",
    "\n",
    "# Different between max date and the transaction date\n",
    "df_proc['Diff'] = max_date - df_proc['InvoiceDate']\n",
    "\n",
    "# Last transaction date for each customer\n",
    "rfm_r = df_proc.groupby('Customer ID')['Diff'].min().reset_index()\n",
    "rfm_r['Diff'] = rfm_r['Diff'].dt.days\n",
    "rfm_r.columns =  ['Customer ID', 'Recency']\n",
    "rfm_r.head(10)"
   ]
  },
  {
   "cell_type": "code",
   "execution_count": 30,
   "metadata": {},
   "outputs": [
    {
     "data": {
      "text/html": [
       "<div>\n",
       "<style scoped>\n",
       "    .dataframe tbody tr th:only-of-type {\n",
       "        vertical-align: middle;\n",
       "    }\n",
       "\n",
       "    .dataframe tbody tr th {\n",
       "        vertical-align: top;\n",
       "    }\n",
       "\n",
       "    .dataframe thead th {\n",
       "        text-align: right;\n",
       "    }\n",
       "</style>\n",
       "<table border=\"1\" class=\"dataframe\">\n",
       "  <thead>\n",
       "    <tr style=\"text-align: right;\">\n",
       "      <th></th>\n",
       "      <th>Customer ID</th>\n",
       "      <th>Frequency</th>\n",
       "    </tr>\n",
       "  </thead>\n",
       "  <tbody>\n",
       "    <tr>\n",
       "      <th>0</th>\n",
       "      <td>12346.0</td>\n",
       "      <td>33</td>\n",
       "    </tr>\n",
       "    <tr>\n",
       "      <th>1</th>\n",
       "      <td>12347.0</td>\n",
       "      <td>234</td>\n",
       "    </tr>\n",
       "    <tr>\n",
       "      <th>2</th>\n",
       "      <td>12348.0</td>\n",
       "      <td>26</td>\n",
       "    </tr>\n",
       "    <tr>\n",
       "      <th>3</th>\n",
       "      <td>12349.0</td>\n",
       "      <td>137</td>\n",
       "    </tr>\n",
       "    <tr>\n",
       "      <th>4</th>\n",
       "      <td>12350.0</td>\n",
       "      <td>16</td>\n",
       "    </tr>\n",
       "    <tr>\n",
       "      <th>5</th>\n",
       "      <td>12351.0</td>\n",
       "      <td>20</td>\n",
       "    </tr>\n",
       "    <tr>\n",
       "      <th>6</th>\n",
       "      <td>12352.0</td>\n",
       "      <td>83</td>\n",
       "    </tr>\n",
       "    <tr>\n",
       "      <th>7</th>\n",
       "      <td>12353.0</td>\n",
       "      <td>22</td>\n",
       "    </tr>\n",
       "    <tr>\n",
       "      <th>8</th>\n",
       "      <td>12354.0</td>\n",
       "      <td>40</td>\n",
       "    </tr>\n",
       "    <tr>\n",
       "      <th>9</th>\n",
       "      <td>12355.0</td>\n",
       "      <td>29</td>\n",
       "    </tr>\n",
       "  </tbody>\n",
       "</table>\n",
       "</div>"
      ],
      "text/plain": [
       "   Customer ID  Frequency\n",
       "0      12346.0         33\n",
       "1      12347.0        234\n",
       "2      12348.0         26\n",
       "3      12349.0        137\n",
       "4      12350.0         16\n",
       "5      12351.0         20\n",
       "6      12352.0         83\n",
       "7      12353.0         22\n",
       "8      12354.0         40\n",
       "9      12355.0         29"
      ]
     },
     "execution_count": 30,
     "metadata": {},
     "output_type": "execute_result"
    }
   ],
   "source": [
    "# Frequency\n",
    "rfm_f = df_proc.groupby('Customer ID')['Invoice'].count().reset_index()\n",
    "rfm_f.columns = ['Customer ID', 'Frequency']\n",
    "rfm_f.head(10)\n"
   ]
  },
  {
   "cell_type": "code",
   "execution_count": 31,
   "metadata": {},
   "outputs": [
    {
     "data": {
      "text/html": [
       "<div>\n",
       "<style scoped>\n",
       "    .dataframe tbody tr th:only-of-type {\n",
       "        vertical-align: middle;\n",
       "    }\n",
       "\n",
       "    .dataframe tbody tr th {\n",
       "        vertical-align: top;\n",
       "    }\n",
       "\n",
       "    .dataframe thead th {\n",
       "        text-align: right;\n",
       "    }\n",
       "</style>\n",
       "<table border=\"1\" class=\"dataframe\">\n",
       "  <thead>\n",
       "    <tr style=\"text-align: right;\">\n",
       "      <th></th>\n",
       "      <th>Customer ID</th>\n",
       "      <th>Monetary</th>\n",
       "    </tr>\n",
       "  </thead>\n",
       "  <tbody>\n",
       "    <tr>\n",
       "      <th>0</th>\n",
       "      <td>12346.0</td>\n",
       "      <td>372.86</td>\n",
       "    </tr>\n",
       "    <tr>\n",
       "      <th>1</th>\n",
       "      <td>12347.0</td>\n",
       "      <td>4538.90</td>\n",
       "    </tr>\n",
       "    <tr>\n",
       "      <th>2</th>\n",
       "      <td>12348.0</td>\n",
       "      <td>312.36</td>\n",
       "    </tr>\n",
       "    <tr>\n",
       "      <th>3</th>\n",
       "      <td>12349.0</td>\n",
       "      <td>2620.04</td>\n",
       "    </tr>\n",
       "    <tr>\n",
       "      <th>4</th>\n",
       "      <td>12350.0</td>\n",
       "      <td>294.40</td>\n",
       "    </tr>\n",
       "    <tr>\n",
       "      <th>5</th>\n",
       "      <td>12351.0</td>\n",
       "      <td>288.18</td>\n",
       "    </tr>\n",
       "    <tr>\n",
       "      <th>6</th>\n",
       "      <td>12352.0</td>\n",
       "      <td>1461.99</td>\n",
       "    </tr>\n",
       "    <tr>\n",
       "      <th>7</th>\n",
       "      <td>12353.0</td>\n",
       "      <td>347.06</td>\n",
       "    </tr>\n",
       "    <tr>\n",
       "      <th>8</th>\n",
       "      <td>12354.0</td>\n",
       "      <td>682.69</td>\n",
       "    </tr>\n",
       "    <tr>\n",
       "      <th>9</th>\n",
       "      <td>12355.0</td>\n",
       "      <td>656.11</td>\n",
       "    </tr>\n",
       "  </tbody>\n",
       "</table>\n",
       "</div>"
      ],
      "text/plain": [
       "   Customer ID  Monetary\n",
       "0      12346.0    372.86\n",
       "1      12347.0   4538.90\n",
       "2      12348.0    312.36\n",
       "3      12349.0   2620.04\n",
       "4      12350.0    294.40\n",
       "5      12351.0    288.18\n",
       "6      12352.0   1461.99\n",
       "7      12353.0    347.06\n",
       "8      12354.0    682.69\n",
       "9      12355.0    656.11"
      ]
     },
     "execution_count": 31,
     "metadata": {},
     "output_type": "execute_result"
    }
   ],
   "source": [
    "# Monetary \n",
    "df_proc['Total'] = df_proc['Price'] * df_proc['Quantity']\n",
    "rfm_m = df_proc.groupby('Customer ID')['Total'].sum().reset_index()\n",
    "rfm_m.columns = ['Customer ID', 'Monetary']\n",
    "rfm_m.head(10)"
   ]
  },
  {
   "cell_type": "code",
   "execution_count": 32,
   "metadata": {},
   "outputs": [
    {
     "data": {
      "text/html": [
       "<div>\n",
       "<style scoped>\n",
       "    .dataframe tbody tr th:only-of-type {\n",
       "        vertical-align: middle;\n",
       "    }\n",
       "\n",
       "    .dataframe tbody tr th {\n",
       "        vertical-align: top;\n",
       "    }\n",
       "\n",
       "    .dataframe thead th {\n",
       "        text-align: right;\n",
       "    }\n",
       "</style>\n",
       "<table border=\"1\" class=\"dataframe\">\n",
       "  <thead>\n",
       "    <tr style=\"text-align: right;\">\n",
       "      <th></th>\n",
       "      <th>Customer ID</th>\n",
       "      <th>Recency</th>\n",
       "      <th>Frequency</th>\n",
       "      <th>Monetary</th>\n",
       "    </tr>\n",
       "  </thead>\n",
       "  <tbody>\n",
       "    <tr>\n",
       "      <th>0</th>\n",
       "      <td>12346.0</td>\n",
       "      <td>528</td>\n",
       "      <td>33</td>\n",
       "      <td>372.86</td>\n",
       "    </tr>\n",
       "    <tr>\n",
       "      <th>1</th>\n",
       "      <td>12347.0</td>\n",
       "      <td>1</td>\n",
       "      <td>234</td>\n",
       "      <td>4538.90</td>\n",
       "    </tr>\n",
       "    <tr>\n",
       "      <th>2</th>\n",
       "      <td>12348.0</td>\n",
       "      <td>248</td>\n",
       "      <td>26</td>\n",
       "      <td>312.36</td>\n",
       "    </tr>\n",
       "    <tr>\n",
       "      <th>3</th>\n",
       "      <td>12349.0</td>\n",
       "      <td>18</td>\n",
       "      <td>137</td>\n",
       "      <td>2620.04</td>\n",
       "    </tr>\n",
       "    <tr>\n",
       "      <th>4</th>\n",
       "      <td>12350.0</td>\n",
       "      <td>309</td>\n",
       "      <td>16</td>\n",
       "      <td>294.40</td>\n",
       "    </tr>\n",
       "    <tr>\n",
       "      <th>5</th>\n",
       "      <td>12351.0</td>\n",
       "      <td>374</td>\n",
       "      <td>20</td>\n",
       "      <td>288.18</td>\n",
       "    </tr>\n",
       "    <tr>\n",
       "      <th>6</th>\n",
       "      <td>12352.0</td>\n",
       "      <td>35</td>\n",
       "      <td>83</td>\n",
       "      <td>1461.99</td>\n",
       "    </tr>\n",
       "    <tr>\n",
       "      <th>7</th>\n",
       "      <td>12353.0</td>\n",
       "      <td>203</td>\n",
       "      <td>22</td>\n",
       "      <td>347.06</td>\n",
       "    </tr>\n",
       "    <tr>\n",
       "      <th>8</th>\n",
       "      <td>12354.0</td>\n",
       "      <td>231</td>\n",
       "      <td>40</td>\n",
       "      <td>682.69</td>\n",
       "    </tr>\n",
       "    <tr>\n",
       "      <th>9</th>\n",
       "      <td>12355.0</td>\n",
       "      <td>213</td>\n",
       "      <td>29</td>\n",
       "      <td>656.11</td>\n",
       "    </tr>\n",
       "  </tbody>\n",
       "</table>\n",
       "</div>"
      ],
      "text/plain": [
       "   Customer ID  Recency  Frequency  Monetary\n",
       "0      12346.0      528         33    372.86\n",
       "1      12347.0        1        234   4538.90\n",
       "2      12348.0      248         26    312.36\n",
       "3      12349.0       18        137   2620.04\n",
       "4      12350.0      309         16    294.40\n",
       "5      12351.0      374         20    288.18\n",
       "6      12352.0       35         83   1461.99\n",
       "7      12353.0      203         22    347.06\n",
       "8      12354.0      231         40    682.69\n",
       "9      12355.0      213         29    656.11"
      ]
     },
     "execution_count": 32,
     "metadata": {},
     "output_type": "execute_result"
    }
   ],
   "source": [
    "# Creating the RFM data frame.\n",
    "rfm = pd.merge(rfm_r, rfm_f, on='Customer ID', how='inner')\n",
    "rfm = pd.merge(rfm, rfm_m, on='Customer ID', how='inner')\n",
    "rfm.head(10)"
   ]
  },
  {
   "cell_type": "markdown",
   "metadata": {},
   "source": [
    "## VD"
   ]
  },
  {
   "cell_type": "code",
   "execution_count": 33,
   "metadata": {},
   "outputs": [
    {
     "data": {
      "text/html": [
       "<div>\n",
       "<style scoped>\n",
       "    .dataframe tbody tr th:only-of-type {\n",
       "        vertical-align: middle;\n",
       "    }\n",
       "\n",
       "    .dataframe tbody tr th {\n",
       "        vertical-align: top;\n",
       "    }\n",
       "\n",
       "    .dataframe thead th {\n",
       "        text-align: right;\n",
       "    }\n",
       "</style>\n",
       "<table border=\"1\" class=\"dataframe\">\n",
       "  <thead>\n",
       "    <tr style=\"text-align: right;\">\n",
       "      <th></th>\n",
       "      <th>Customer ID</th>\n",
       "      <th>Variety</th>\n",
       "    </tr>\n",
       "  </thead>\n",
       "  <tbody>\n",
       "    <tr>\n",
       "      <th>0</th>\n",
       "      <td>12346.0</td>\n",
       "      <td>26</td>\n",
       "    </tr>\n",
       "    <tr>\n",
       "      <th>1</th>\n",
       "      <td>12347.0</td>\n",
       "      <td>119</td>\n",
       "    </tr>\n",
       "    <tr>\n",
       "      <th>2</th>\n",
       "      <td>12348.0</td>\n",
       "      <td>21</td>\n",
       "    </tr>\n",
       "    <tr>\n",
       "      <th>3</th>\n",
       "      <td>12349.0</td>\n",
       "      <td>110</td>\n",
       "    </tr>\n",
       "    <tr>\n",
       "      <th>4</th>\n",
       "      <td>12350.0</td>\n",
       "      <td>16</td>\n",
       "    </tr>\n",
       "    <tr>\n",
       "      <th>5</th>\n",
       "      <td>12351.0</td>\n",
       "      <td>20</td>\n",
       "    </tr>\n",
       "    <tr>\n",
       "      <th>6</th>\n",
       "      <td>12352.0</td>\n",
       "      <td>60</td>\n",
       "    </tr>\n",
       "    <tr>\n",
       "      <th>7</th>\n",
       "      <td>12353.0</td>\n",
       "      <td>21</td>\n",
       "    </tr>\n",
       "    <tr>\n",
       "      <th>8</th>\n",
       "      <td>12354.0</td>\n",
       "      <td>40</td>\n",
       "    </tr>\n",
       "    <tr>\n",
       "      <th>9</th>\n",
       "      <td>12355.0</td>\n",
       "      <td>29</td>\n",
       "    </tr>\n",
       "  </tbody>\n",
       "</table>\n",
       "</div>"
      ],
      "text/plain": [
       "   Customer ID  Variety\n",
       "0      12346.0       26\n",
       "1      12347.0      119\n",
       "2      12348.0       21\n",
       "3      12349.0      110\n",
       "4      12350.0       16\n",
       "5      12351.0       20\n",
       "6      12352.0       60\n",
       "7      12353.0       21\n",
       "8      12354.0       40\n",
       "9      12355.0       29"
      ]
     },
     "execution_count": 33,
     "metadata": {},
     "output_type": "execute_result"
    }
   ],
   "source": [
    "# Variety\n",
    "def div(x: pd.Series):\n",
    "    u = x.nunique()\n",
    "    return u\n",
    "\n",
    "rfm_v = df_proc.groupby('Customer ID')['StockCode'].agg([div]).reset_index()\n",
    "rfm_v.columns = ['Customer ID', 'Variety']\n",
    "rfm_v.head(10)"
   ]
  },
  {
   "cell_type": "code",
   "execution_count": 34,
   "metadata": {},
   "outputs": [
    {
     "data": {
      "text/html": [
       "<div>\n",
       "<style scoped>\n",
       "    .dataframe tbody tr th:only-of-type {\n",
       "        vertical-align: middle;\n",
       "    }\n",
       "\n",
       "    .dataframe tbody tr th {\n",
       "        vertical-align: top;\n",
       "    }\n",
       "\n",
       "    .dataframe thead th {\n",
       "        text-align: right;\n",
       "    }\n",
       "</style>\n",
       "<table border=\"1\" class=\"dataframe\">\n",
       "  <thead>\n",
       "    <tr style=\"text-align: right;\">\n",
       "      <th></th>\n",
       "      <th>Customer ID</th>\n",
       "      <th>Duration</th>\n",
       "    </tr>\n",
       "  </thead>\n",
       "  <tbody>\n",
       "    <tr>\n",
       "      <th>0</th>\n",
       "      <td>12346.0</td>\n",
       "      <td>6.193548</td>\n",
       "    </tr>\n",
       "    <tr>\n",
       "      <th>1</th>\n",
       "      <td>12347.0</td>\n",
       "      <td>1.719828</td>\n",
       "    </tr>\n",
       "    <tr>\n",
       "      <th>2</th>\n",
       "      <td>12348.0</td>\n",
       "      <td>4.958333</td>\n",
       "    </tr>\n",
       "    <tr>\n",
       "      <th>3</th>\n",
       "      <td>12349.0</td>\n",
       "      <td>4.222222</td>\n",
       "    </tr>\n",
       "    <tr>\n",
       "      <th>4</th>\n",
       "      <td>12350.0</td>\n",
       "      <td>0.000000</td>\n",
       "    </tr>\n",
       "    <tr>\n",
       "      <th>5</th>\n",
       "      <td>12351.0</td>\n",
       "      <td>0.000000</td>\n",
       "    </tr>\n",
       "    <tr>\n",
       "      <th>6</th>\n",
       "      <td>12352.0</td>\n",
       "      <td>4.358025</td>\n",
       "    </tr>\n",
       "    <tr>\n",
       "      <th>7</th>\n",
       "      <td>12353.0</td>\n",
       "      <td>10.200000</td>\n",
       "    </tr>\n",
       "    <tr>\n",
       "      <th>8</th>\n",
       "      <td>12354.0</td>\n",
       "      <td>0.000000</td>\n",
       "    </tr>\n",
       "    <tr>\n",
       "      <th>9</th>\n",
       "      <td>12355.0</td>\n",
       "      <td>13.074074</td>\n",
       "    </tr>\n",
       "  </tbody>\n",
       "</table>\n",
       "</div>"
      ],
      "text/plain": [
       "   Customer ID   Duration\n",
       "0      12346.0   6.193548\n",
       "1      12347.0   1.719828\n",
       "2      12348.0   4.958333\n",
       "3      12349.0   4.222222\n",
       "4      12350.0   0.000000\n",
       "5      12351.0   0.000000\n",
       "6      12352.0   4.358025\n",
       "7      12353.0  10.200000\n",
       "8      12354.0   0.000000\n",
       "9      12355.0  13.074074"
      ]
     },
     "execution_count": 34,
     "metadata": {},
     "output_type": "execute_result"
    }
   ],
   "source": [
    "# Duration\n",
    "\n",
    "import statistics\n",
    "\n",
    "def duration(x: pd.Series):\n",
    "    m = []\n",
    "    x = pd.to_datetime(x, format='%d-%m-%Y %H:%M')\n",
    "    # print(x.iloc[0])\n",
    "    for i in range(1, len(x)-1):\n",
    "        diff =  x.iloc[i] - x.iloc[i - 1]\n",
    "        m.append(diff.days)\n",
    "\n",
    "    return statistics.mean(m) if m else 0\n",
    "\n",
    "rfm_d= df_proc.groupby('Customer ID')['InvoiceDate'].agg([duration]).reset_index()\n",
    "rfm_d.columns = ['Customer ID', 'Duration']\n",
    "rfm_d.head(10)\n",
    "\n"
   ]
  },
  {
   "cell_type": "code",
   "execution_count": 35,
   "metadata": {},
   "outputs": [
    {
     "data": {
      "text/html": [
       "<div>\n",
       "<style scoped>\n",
       "    .dataframe tbody tr th:only-of-type {\n",
       "        vertical-align: middle;\n",
       "    }\n",
       "\n",
       "    .dataframe tbody tr th {\n",
       "        vertical-align: top;\n",
       "    }\n",
       "\n",
       "    .dataframe thead th {\n",
       "        text-align: right;\n",
       "    }\n",
       "</style>\n",
       "<table border=\"1\" class=\"dataframe\">\n",
       "  <thead>\n",
       "    <tr style=\"text-align: right;\">\n",
       "      <th></th>\n",
       "      <th>Customer ID</th>\n",
       "      <th>Recency</th>\n",
       "      <th>Frequency</th>\n",
       "      <th>Monetary</th>\n",
       "      <th>Variety</th>\n",
       "      <th>Duration</th>\n",
       "    </tr>\n",
       "  </thead>\n",
       "  <tbody>\n",
       "    <tr>\n",
       "      <th>count</th>\n",
       "      <td>5678.000000</td>\n",
       "      <td>5678.000000</td>\n",
       "      <td>5678.000000</td>\n",
       "      <td>5678.000000</td>\n",
       "      <td>5678.000000</td>\n",
       "      <td>5678.000000</td>\n",
       "    </tr>\n",
       "    <tr>\n",
       "      <th>mean</th>\n",
       "      <td>15318.222437</td>\n",
       "      <td>200.019021</td>\n",
       "      <td>120.821240</td>\n",
       "      <td>1551.003284</td>\n",
       "      <td>74.122754</td>\n",
       "      <td>5.173586</td>\n",
       "    </tr>\n",
       "    <tr>\n",
       "      <th>std</th>\n",
       "      <td>1714.837549</td>\n",
       "      <td>208.931814</td>\n",
       "      <td>311.775018</td>\n",
       "      <td>3812.196055</td>\n",
       "      <td>104.713773</td>\n",
       "      <td>13.808916</td>\n",
       "    </tr>\n",
       "    <tr>\n",
       "      <th>min</th>\n",
       "      <td>12346.000000</td>\n",
       "      <td>0.000000</td>\n",
       "      <td>1.000000</td>\n",
       "      <td>0.000000</td>\n",
       "      <td>1.000000</td>\n",
       "      <td>0.000000</td>\n",
       "    </tr>\n",
       "    <tr>\n",
       "      <th>25%</th>\n",
       "      <td>13837.250000</td>\n",
       "      <td>25.000000</td>\n",
       "      <td>18.000000</td>\n",
       "      <td>251.110000</td>\n",
       "      <td>17.000000</td>\n",
       "      <td>0.000000</td>\n",
       "    </tr>\n",
       "    <tr>\n",
       "      <th>50%</th>\n",
       "      <td>15318.500000</td>\n",
       "      <td>94.500000</td>\n",
       "      <td>47.000000</td>\n",
       "      <td>615.185000</td>\n",
       "      <td>40.000000</td>\n",
       "      <td>1.932077</td>\n",
       "    </tr>\n",
       "    <tr>\n",
       "      <th>75%</th>\n",
       "      <td>16801.750000</td>\n",
       "      <td>379.000000</td>\n",
       "      <td>123.000000</td>\n",
       "      <td>1566.280000</td>\n",
       "      <td>92.750000</td>\n",
       "      <td>5.215505</td>\n",
       "    </tr>\n",
       "    <tr>\n",
       "      <th>max</th>\n",
       "      <td>18287.000000</td>\n",
       "      <td>738.000000</td>\n",
       "      <td>12052.000000</td>\n",
       "      <td>176897.620000</td>\n",
       "      <td>2219.000000</td>\n",
       "      <td>471.000000</td>\n",
       "    </tr>\n",
       "  </tbody>\n",
       "</table>\n",
       "</div>"
      ],
      "text/plain": [
       "        Customer ID      Recency     Frequency       Monetary      Variety  \\\n",
       "count   5678.000000  5678.000000   5678.000000    5678.000000  5678.000000   \n",
       "mean   15318.222437   200.019021    120.821240    1551.003284    74.122754   \n",
       "std     1714.837549   208.931814    311.775018    3812.196055   104.713773   \n",
       "min    12346.000000     0.000000      1.000000       0.000000     1.000000   \n",
       "25%    13837.250000    25.000000     18.000000     251.110000    17.000000   \n",
       "50%    15318.500000    94.500000     47.000000     615.185000    40.000000   \n",
       "75%    16801.750000   379.000000    123.000000    1566.280000    92.750000   \n",
       "max    18287.000000   738.000000  12052.000000  176897.620000  2219.000000   \n",
       "\n",
       "          Duration  \n",
       "count  5678.000000  \n",
       "mean      5.173586  \n",
       "std      13.808916  \n",
       "min       0.000000  \n",
       "25%       0.000000  \n",
       "50%       1.932077  \n",
       "75%       5.215505  \n",
       "max     471.000000  "
      ]
     },
     "execution_count": 35,
     "metadata": {},
     "output_type": "execute_result"
    }
   ],
   "source": [
    "# Ceating the RFMVD data frame.\n",
    "vd = pd.merge(rfm_v, rfm_d, on='Customer ID', how='inner')\n",
    "\n",
    "rfmvd = pd.merge(rfm, vd, on='Customer ID', how='inner')\n",
    "rfmvd.describe()"
   ]
  },
  {
   "cell_type": "code",
   "execution_count": 36,
   "metadata": {},
   "outputs": [
    {
     "data": {
      "text/html": [
       "<div>\n",
       "<style scoped>\n",
       "    .dataframe tbody tr th:only-of-type {\n",
       "        vertical-align: middle;\n",
       "    }\n",
       "\n",
       "    .dataframe tbody tr th {\n",
       "        vertical-align: top;\n",
       "    }\n",
       "\n",
       "    .dataframe thead th {\n",
       "        text-align: right;\n",
       "    }\n",
       "</style>\n",
       "<table border=\"1\" class=\"dataframe\">\n",
       "  <thead>\n",
       "    <tr style=\"text-align: right;\">\n",
       "      <th></th>\n",
       "      <th>Customer ID</th>\n",
       "      <th>Recency</th>\n",
       "      <th>Frequency</th>\n",
       "      <th>Monetary</th>\n",
       "      <th>Variety</th>\n",
       "      <th>Duration</th>\n",
       "    </tr>\n",
       "  </thead>\n",
       "  <tbody>\n",
       "    <tr>\n",
       "      <th>Customer ID</th>\n",
       "      <td>1.000000</td>\n",
       "      <td>0.028031</td>\n",
       "      <td>0.009918</td>\n",
       "      <td>-0.040094</td>\n",
       "      <td>0.007932</td>\n",
       "      <td>-0.005308</td>\n",
       "    </tr>\n",
       "    <tr>\n",
       "      <th>Recency</th>\n",
       "      <td>0.028031</td>\n",
       "      <td>1.000000</td>\n",
       "      <td>-0.214235</td>\n",
       "      <td>-0.227478</td>\n",
       "      <td>-0.321802</td>\n",
       "      <td>-0.103890</td>\n",
       "    </tr>\n",
       "    <tr>\n",
       "      <th>Frequency</th>\n",
       "      <td>0.009918</td>\n",
       "      <td>-0.214235</td>\n",
       "      <td>1.000000</td>\n",
       "      <td>0.788310</td>\n",
       "      <td>0.867775</td>\n",
       "      <td>-0.081312</td>\n",
       "    </tr>\n",
       "    <tr>\n",
       "      <th>Monetary</th>\n",
       "      <td>-0.040094</td>\n",
       "      <td>-0.227478</td>\n",
       "      <td>0.788310</td>\n",
       "      <td>1.000000</td>\n",
       "      <td>0.717126</td>\n",
       "      <td>-0.065134</td>\n",
       "    </tr>\n",
       "    <tr>\n",
       "      <th>Variety</th>\n",
       "      <td>0.007932</td>\n",
       "      <td>-0.321802</td>\n",
       "      <td>0.867775</td>\n",
       "      <td>0.717126</td>\n",
       "      <td>1.000000</td>\n",
       "      <td>-0.126965</td>\n",
       "    </tr>\n",
       "    <tr>\n",
       "      <th>Duration</th>\n",
       "      <td>-0.005308</td>\n",
       "      <td>-0.103890</td>\n",
       "      <td>-0.081312</td>\n",
       "      <td>-0.065134</td>\n",
       "      <td>-0.126965</td>\n",
       "      <td>1.000000</td>\n",
       "    </tr>\n",
       "  </tbody>\n",
       "</table>\n",
       "</div>"
      ],
      "text/plain": [
       "             Customer ID   Recency  Frequency  Monetary   Variety  Duration\n",
       "Customer ID     1.000000  0.028031   0.009918 -0.040094  0.007932 -0.005308\n",
       "Recency         0.028031  1.000000  -0.214235 -0.227478 -0.321802 -0.103890\n",
       "Frequency       0.009918 -0.214235   1.000000  0.788310  0.867775 -0.081312\n",
       "Monetary       -0.040094 -0.227478   0.788310  1.000000  0.717126 -0.065134\n",
       "Variety         0.007932 -0.321802   0.867775  0.717126  1.000000 -0.126965\n",
       "Duration       -0.005308 -0.103890  -0.081312 -0.065134 -0.126965  1.000000"
      ]
     },
     "execution_count": 36,
     "metadata": {},
     "output_type": "execute_result"
    }
   ],
   "source": [
    "rfmvd.corr()"
   ]
  },
  {
   "cell_type": "markdown",
   "metadata": {},
   "source": []
  },
  {
   "cell_type": "markdown",
   "metadata": {},
   "source": [
    "## Scaling"
   ]
  },
  {
   "cell_type": "code",
   "execution_count": 37,
   "metadata": {},
   "outputs": [
    {
     "data": {
      "text/html": [
       "<div>\n",
       "<style scoped>\n",
       "    .dataframe tbody tr th:only-of-type {\n",
       "        vertical-align: middle;\n",
       "    }\n",
       "\n",
       "    .dataframe tbody tr th {\n",
       "        vertical-align: top;\n",
       "    }\n",
       "\n",
       "    .dataframe thead th {\n",
       "        text-align: right;\n",
       "    }\n",
       "</style>\n",
       "<table border=\"1\" class=\"dataframe\">\n",
       "  <thead>\n",
       "    <tr style=\"text-align: right;\">\n",
       "      <th></th>\n",
       "      <th>Recency</th>\n",
       "      <th>Frequency</th>\n",
       "      <th>Monetary</th>\n",
       "      <th>Variety</th>\n",
       "      <th>Duration</th>\n",
       "    </tr>\n",
       "  </thead>\n",
       "  <tbody>\n",
       "    <tr>\n",
       "      <th>0</th>\n",
       "      <td>1.569937</td>\n",
       "      <td>-0.281706</td>\n",
       "      <td>-0.309073</td>\n",
       "      <td>-0.459605</td>\n",
       "      <td>0.073869</td>\n",
       "    </tr>\n",
       "    <tr>\n",
       "      <th>1</th>\n",
       "      <td>-0.952639</td>\n",
       "      <td>0.363046</td>\n",
       "      <td>0.783842</td>\n",
       "      <td>0.428608</td>\n",
       "      <td>-0.250133</td>\n",
       "    </tr>\n",
       "    <tr>\n",
       "      <th>2</th>\n",
       "      <td>0.229669</td>\n",
       "      <td>-0.304160</td>\n",
       "      <td>-0.324945</td>\n",
       "      <td>-0.507359</td>\n",
       "      <td>-0.015589</td>\n",
       "    </tr>\n",
       "    <tr>\n",
       "      <th>3</th>\n",
       "      <td>-0.871265</td>\n",
       "      <td>0.051897</td>\n",
       "      <td>0.280450</td>\n",
       "      <td>0.342652</td>\n",
       "      <td>-0.068901</td>\n",
       "    </tr>\n",
       "    <tr>\n",
       "      <th>4</th>\n",
       "      <td>0.521656</td>\n",
       "      <td>-0.336238</td>\n",
       "      <td>-0.329656</td>\n",
       "      <td>-0.555112</td>\n",
       "      <td>-0.374688</td>\n",
       "    </tr>\n",
       "    <tr>\n",
       "      <th>5</th>\n",
       "      <td>0.832790</td>\n",
       "      <td>-0.323407</td>\n",
       "      <td>-0.331288</td>\n",
       "      <td>-0.516909</td>\n",
       "      <td>-0.374688</td>\n",
       "    </tr>\n",
       "    <tr>\n",
       "      <th>6</th>\n",
       "      <td>-0.789892</td>\n",
       "      <td>-0.121320</td>\n",
       "      <td>-0.023352</td>\n",
       "      <td>-0.134882</td>\n",
       "      <td>-0.059066</td>\n",
       "    </tr>\n",
       "    <tr>\n",
       "      <th>7</th>\n",
       "      <td>0.014269</td>\n",
       "      <td>-0.316991</td>\n",
       "      <td>-0.315841</td>\n",
       "      <td>-0.507359</td>\n",
       "      <td>0.364030</td>\n",
       "    </tr>\n",
       "    <tr>\n",
       "      <th>8</th>\n",
       "      <td>0.148296</td>\n",
       "      <td>-0.259252</td>\n",
       "      <td>-0.227793</td>\n",
       "      <td>-0.325896</td>\n",
       "      <td>-0.374688</td>\n",
       "    </tr>\n",
       "    <tr>\n",
       "      <th>9</th>\n",
       "      <td>0.062136</td>\n",
       "      <td>-0.294537</td>\n",
       "      <td>-0.234765</td>\n",
       "      <td>-0.430953</td>\n",
       "      <td>0.572180</td>\n",
       "    </tr>\n",
       "    <tr>\n",
       "      <th>10</th>\n",
       "      <td>0.215309</td>\n",
       "      <td>-0.118112</td>\n",
       "      <td>0.102411</td>\n",
       "      <td>-0.029824</td>\n",
       "      <td>-0.218360</td>\n",
       "    </tr>\n",
       "    <tr>\n",
       "      <th>11</th>\n",
       "      <td>-0.804252</td>\n",
       "      <td>0.270022</td>\n",
       "      <td>1.277981</td>\n",
       "      <td>0.992099</td>\n",
       "      <td>-0.248037</td>\n",
       "    </tr>\n",
       "    <tr>\n",
       "      <th>12</th>\n",
       "      <td>-0.952639</td>\n",
       "      <td>-0.217552</td>\n",
       "      <td>0.105926</td>\n",
       "      <td>-0.325896</td>\n",
       "      <td>0.659119</td>\n",
       "    </tr>\n",
       "    <tr>\n",
       "      <th>13</th>\n",
       "      <td>-0.684585</td>\n",
       "      <td>0.488147</td>\n",
       "      <td>0.885627</td>\n",
       "      <td>1.574690</td>\n",
       "      <td>-0.194565</td>\n",
       "    </tr>\n",
       "    <tr>\n",
       "      <th>14</th>\n",
       "      <td>-0.713305</td>\n",
       "      <td>0.244360</td>\n",
       "      <td>0.396380</td>\n",
       "      <td>0.705578</td>\n",
       "      <td>-0.151105</td>\n",
       "    </tr>\n",
       "    <tr>\n",
       "      <th>15</th>\n",
       "      <td>0.411563</td>\n",
       "      <td>-0.307368</td>\n",
       "      <td>-0.288508</td>\n",
       "      <td>-0.545561</td>\n",
       "      <td>0.862806</td>\n",
       "    </tr>\n",
       "    <tr>\n",
       "      <th>16</th>\n",
       "      <td>-0.947852</td>\n",
       "      <td>0.334177</td>\n",
       "      <td>0.668423</td>\n",
       "      <td>0.934795</td>\n",
       "      <td>-0.281480</td>\n",
       "    </tr>\n",
       "    <tr>\n",
       "      <th>17</th>\n",
       "      <td>-0.435678</td>\n",
       "      <td>-0.326614</td>\n",
       "      <td>-0.279786</td>\n",
       "      <td>-0.526460</td>\n",
       "      <td>0.187658</td>\n",
       "    </tr>\n",
       "    <tr>\n",
       "      <th>18</th>\n",
       "      <td>-0.923919</td>\n",
       "      <td>-0.137359</td>\n",
       "      <td>-0.116668</td>\n",
       "      <td>-0.068027</td>\n",
       "      <td>-0.275583</td>\n",
       "    </tr>\n",
       "    <tr>\n",
       "      <th>19</th>\n",
       "      <td>0.430709</td>\n",
       "      <td>-0.323407</td>\n",
       "      <td>-0.326104</td>\n",
       "      <td>-0.516909</td>\n",
       "      <td>-0.374688</td>\n",
       "    </tr>\n",
       "  </tbody>\n",
       "</table>\n",
       "</div>"
      ],
      "text/plain": [
       "     Recency  Frequency  Monetary   Variety  Duration\n",
       "0   1.569937  -0.281706 -0.309073 -0.459605  0.073869\n",
       "1  -0.952639   0.363046  0.783842  0.428608 -0.250133\n",
       "2   0.229669  -0.304160 -0.324945 -0.507359 -0.015589\n",
       "3  -0.871265   0.051897  0.280450  0.342652 -0.068901\n",
       "4   0.521656  -0.336238 -0.329656 -0.555112 -0.374688\n",
       "5   0.832790  -0.323407 -0.331288 -0.516909 -0.374688\n",
       "6  -0.789892  -0.121320 -0.023352 -0.134882 -0.059066\n",
       "7   0.014269  -0.316991 -0.315841 -0.507359  0.364030\n",
       "8   0.148296  -0.259252 -0.227793 -0.325896 -0.374688\n",
       "9   0.062136  -0.294537 -0.234765 -0.430953  0.572180\n",
       "10  0.215309  -0.118112  0.102411 -0.029824 -0.218360\n",
       "11 -0.804252   0.270022  1.277981  0.992099 -0.248037\n",
       "12 -0.952639  -0.217552  0.105926 -0.325896  0.659119\n",
       "13 -0.684585   0.488147  0.885627  1.574690 -0.194565\n",
       "14 -0.713305   0.244360  0.396380  0.705578 -0.151105\n",
       "15  0.411563  -0.307368 -0.288508 -0.545561  0.862806\n",
       "16 -0.947852   0.334177  0.668423  0.934795 -0.281480\n",
       "17 -0.435678  -0.326614 -0.279786 -0.526460  0.187658\n",
       "18 -0.923919  -0.137359 -0.116668 -0.068027 -0.275583\n",
       "19  0.430709  -0.323407 -0.326104 -0.516909 -0.374688"
      ]
     },
     "execution_count": 37,
     "metadata": {},
     "output_type": "execute_result"
    }
   ],
   "source": [
    "scaler = StandardScaler()\n",
    "# scaler =  MinMaxScaler()\n",
    "rfmvd_tmp = rfmvd[['Recency', 'Frequency', 'Monetary', 'Variety', 'Duration']]\n",
    "rfmvd_scaled = pd.DataFrame(scaler.fit_transform(rfmvd_tmp))\n",
    "rfmvd_scaled.columns =['Recency', 'Frequency', 'Monetary', 'Variety', 'Duration']\n",
    "rfmvd_scaled.head(20)"
   ]
  },
  {
   "cell_type": "markdown",
   "metadata": {},
   "source": [
    "# Segmentation Algorithms"
   ]
  },
  {
   "cell_type": "markdown",
   "metadata": {},
   "source": [
    "## K-means"
   ]
  },
  {
   "cell_type": "code",
   "execution_count": 448,
   "metadata": {},
   "outputs": [
    {
     "name": "stderr",
     "output_type": "stream",
     "text": [
      "c:\\Users\\pc\\anaconda3\\Lib\\site-packages\\sklearn\\cluster\\_kmeans.py:1412: FutureWarning: The default value of `n_init` will change from 10 to 'auto' in 1.4. Set the value of `n_init` explicitly to suppress the warning\n",
      "  super()._check_params_vs_input(X, default_n_init=10)\n",
      "c:\\Users\\pc\\anaconda3\\Lib\\site-packages\\sklearn\\cluster\\_kmeans.py:1412: FutureWarning: The default value of `n_init` will change from 10 to 'auto' in 1.4. Set the value of `n_init` explicitly to suppress the warning\n",
      "  super()._check_params_vs_input(X, default_n_init=10)\n",
      "c:\\Users\\pc\\anaconda3\\Lib\\site-packages\\sklearn\\cluster\\_kmeans.py:1412: FutureWarning: The default value of `n_init` will change from 10 to 'auto' in 1.4. Set the value of `n_init` explicitly to suppress the warning\n",
      "  super()._check_params_vs_input(X, default_n_init=10)\n",
      "c:\\Users\\pc\\anaconda3\\Lib\\site-packages\\sklearn\\cluster\\_kmeans.py:1412: FutureWarning: The default value of `n_init` will change from 10 to 'auto' in 1.4. Set the value of `n_init` explicitly to suppress the warning\n",
      "  super()._check_params_vs_input(X, default_n_init=10)\n",
      "c:\\Users\\pc\\anaconda3\\Lib\\site-packages\\sklearn\\cluster\\_kmeans.py:1412: FutureWarning: The default value of `n_init` will change from 10 to 'auto' in 1.4. Set the value of `n_init` explicitly to suppress the warning\n",
      "  super()._check_params_vs_input(X, default_n_init=10)\n",
      "c:\\Users\\pc\\anaconda3\\Lib\\site-packages\\sklearn\\cluster\\_kmeans.py:1412: FutureWarning: The default value of `n_init` will change from 10 to 'auto' in 1.4. Set the value of `n_init` explicitly to suppress the warning\n",
      "  super()._check_params_vs_input(X, default_n_init=10)\n",
      "c:\\Users\\pc\\anaconda3\\Lib\\site-packages\\sklearn\\cluster\\_kmeans.py:1412: FutureWarning: The default value of `n_init` will change from 10 to 'auto' in 1.4. Set the value of `n_init` explicitly to suppress the warning\n",
      "  super()._check_params_vs_input(X, default_n_init=10)\n",
      "c:\\Users\\pc\\anaconda3\\Lib\\site-packages\\sklearn\\cluster\\_kmeans.py:1412: FutureWarning: The default value of `n_init` will change from 10 to 'auto' in 1.4. Set the value of `n_init` explicitly to suppress the warning\n",
      "  super()._check_params_vs_input(X, default_n_init=10)\n"
     ]
    },
    {
     "data": {
      "image/png": "[encoded data removed]",
      "text/plain": [
       "<Figure size 800x550 with 2 Axes>"
      ]
     },
     "metadata": {},
     "output_type": "display_data"
    },
    {
     "data": {
      "text/plain": [
       "<Axes: title={'center': 'Distortion Score Elbow for KMeans Clustering'}, xlabel='k', ylabel='distortion score'>"
      ]
     },
     "execution_count": 448,
     "metadata": {},
     "output_type": "execute_result"
    }
   ],
   "source": [
    "# RFM\n",
    "vars = ['Recency', 'Frequency', 'Monetary']\n",
    "model = KMeans()\n",
    "visualizer = KElbowVisualizer(model, k=(1,9))\n",
    "\n",
    "visualizer.fit(rfmvd_scaled[vars])        # Fit the data to the visualizer\n",
    "visualizer.show()        # Finalize and render the figure"
   ]
  },
  {
   "cell_type": "code",
   "execution_count": 449,
   "metadata": {},
   "outputs": [],
   "source": [
    "n = 4 # number of clusters"
   ]
  },
  {
   "cell_type": "code",
   "execution_count": 450,
   "metadata": {},
   "outputs": [
    {
     "name": "stderr",
     "output_type": "stream",
     "text": [
      "c:\\Users\\pc\\anaconda3\\Lib\\site-packages\\sklearn\\cluster\\_kmeans.py:1412: FutureWarning: The default value of `n_init` will change from 10 to 'auto' in 1.4. Set the value of `n_init` explicitly to suppress the warning\n",
      "  super()._check_params_vs_input(X, default_n_init=10)\n"
     ]
    },
    {
     "name": "stdout",
     "output_type": "stream",
     "text": [
      "473 ms ± 0 ns per loop (mean ± std. dev. of 1 run, 1 loop each)\n"
     ]
    }
   ],
   "source": [
    "%%timeit -r1 -n1\n",
    "kmeans = KMeans(n_clusters=n, max_iter=500, random_state=1)\n",
    "kmeans.fit(rfmvd_scaled[vars])"
   ]
  },
  {
   "cell_type": "code",
   "execution_count": 451,
   "metadata": {},
   "outputs": [
    {
     "name": "stderr",
     "output_type": "stream",
     "text": [
      "c:\\Users\\pc\\anaconda3\\Lib\\site-packages\\sklearn\\cluster\\_kmeans.py:1412: FutureWarning: The default value of `n_init` will change from 10 to 'auto' in 1.4. Set the value of `n_init` explicitly to suppress the warning\n",
      "  super()._check_params_vs_input(X, default_n_init=10)\n"
     ]
    },
    {
     "data": {
      "text/html": [
       "<style>#sk-container-id-34 {color: black;}#sk-container-id-34 pre{padding: 0;}#sk-container-id-34 div.sk-toggleable {background-color: white;}#sk-container-id-34 label.sk-toggleable__label {cursor: pointer;display: block;width: 100%;margin-bottom: 0;padding: 0.3em;box-sizing: border-box;text-align: center;}#sk-container-id-34 label.sk-toggleable__label-arrow:before {content: \"▸\";float: left;margin-right: 0.25em;color: #696969;}#sk-container-id-34 label.sk-toggleable__label-arrow:hover:before {color: black;}#sk-container-id-34 div.sk-estimator:hover label.sk-toggleable__label-arrow:before {color: black;}#sk-container-id-34 div.sk-toggleable__content {max-height: 0;max-width: 0;overflow: hidden;text-align: left;background-color: #f0f8ff;}#sk-container-id-34 div.sk-toggleable__content pre {margin: 0.2em;color: black;border-radius: 0.25em;background-color: #f0f8ff;}#sk-container-id-34 input.sk-toggleable__control:checked~div.sk-toggleable__content {max-height: 200px;max-width: 100%;overflow: auto;}#sk-container-id-34 input.sk-toggleable__control:checked~label.sk-toggleable__label-arrow:before {content: \"▾\";}#sk-container-id-34 div.sk-estimator input.sk-toggleable__control:checked~label.sk-toggleable__label {background-color: #d4ebff;}#sk-container-id-34 div.sk-label input.sk-toggleable__control:checked~label.sk-toggleable__label {background-color: #d4ebff;}#sk-container-id-34 input.sk-hidden--visually {border: 0;clip: rect(1px 1px 1px 1px);clip: rect(1px, 1px, 1px, 1px);height: 1px;margin: -1px;overflow: hidden;padding: 0;position: absolute;width: 1px;}#sk-container-id-34 div.sk-estimator {font-family: monospace;background-color: #f0f8ff;border: 1px dotted black;border-radius: 0.25em;box-sizing: border-box;margin-bottom: 0.5em;}#sk-container-id-34 div.sk-estimator:hover {background-color: #d4ebff;}#sk-container-id-34 div.sk-parallel-item::after {content: \"\";width: 100%;border-bottom: 1px solid gray;flex-grow: 1;}#sk-container-id-34 div.sk-label:hover label.sk-toggleable__label {background-color: #d4ebff;}#sk-container-id-34 div.sk-serial::before {content: \"\";position: absolute;border-left: 1px solid gray;box-sizing: border-box;top: 0;bottom: 0;left: 50%;z-index: 0;}#sk-container-id-34 div.sk-serial {display: flex;flex-direction: column;align-items: center;background-color: white;padding-right: 0.2em;padding-left: 0.2em;position: relative;}#sk-container-id-34 div.sk-item {position: relative;z-index: 1;}#sk-container-id-34 div.sk-parallel {display: flex;align-items: stretch;justify-content: center;background-color: white;position: relative;}#sk-container-id-34 div.sk-item::before, #sk-container-id-34 div.sk-parallel-item::before {content: \"\";position: absolute;border-left: 1px solid gray;box-sizing: border-box;top: 0;bottom: 0;left: 50%;z-index: -1;}#sk-container-id-34 div.sk-parallel-item {display: flex;flex-direction: column;z-index: 1;position: relative;background-color: white;}#sk-container-id-34 div.sk-parallel-item:first-child::after {align-self: flex-end;width: 50%;}#sk-container-id-34 div.sk-parallel-item:last-child::after {align-self: flex-start;width: 50%;}#sk-container-id-34 div.sk-parallel-item:only-child::after {width: 0;}#sk-container-id-34 div.sk-dashed-wrapped {border: 1px dashed gray;margin: 0 0.4em 0.5em 0.4em;box-sizing: border-box;padding-bottom: 0.4em;background-color: white;}#sk-container-id-34 div.sk-label label {font-family: monospace;font-weight: bold;display: inline-block;line-height: 1.2em;}#sk-container-id-34 div.sk-label-container {text-align: center;}#sk-container-id-34 div.sk-container {/* jupyter's `normalize.less` sets `[hidden] { display: none; }` but bootstrap.min.css set `[hidden] { display: none !important; }` so we also need the `!important` here to be able to override the default hidden behavior on the sphinx rendered scikit-learn.org. See: https://github.com/scikit-learn/scikit-learn/issues/21755 */display: inline-block !important;position: relative;}#sk-container-id-34 div.sk-text-repr-fallback {display: none;}</style><div id=\"sk-container-id-34\" class=\"sk-top-container\"><div class=\"sk-text-repr-fallback\"><pre>KMeans(max_iter=500, n_clusters=4, random_state=1)</pre><b>In a Jupyter environment, please rerun this cell to show the HTML representation or trust the notebook. <br />On GitHub, the HTML representation is unable to render, please try loading this page with nbviewer.org.</b></div><div class=\"sk-container\" hidden><div class=\"sk-item\"><div class=\"sk-estimator sk-toggleable\"><input class=\"sk-toggleable__control sk-hidden--visually\" id=\"sk-estimator-id-34\" type=\"checkbox\" checked><label for=\"sk-estimator-id-34\" class=\"sk-toggleable__label sk-toggleable__label-arrow\">KMeans</label><div class=\"sk-toggleable__content\"><pre>KMeans(max_iter=500, n_clusters=4, random_state=1)</pre></div></div></div></div></div>"
      ],
      "text/plain": [
       "KMeans(max_iter=500, n_clusters=4, random_state=1)"
      ]
     },
     "execution_count": 451,
     "metadata": {},
     "output_type": "execute_result"
    }
   ],
   "source": [
    "kmeans = KMeans(n_clusters=n, max_iter=500, random_state=1)\n",
    "kmeans.fit(rfmvd_scaled[vars])"
   ]
  },
  {
   "cell_type": "code",
   "execution_count": 452,
   "metadata": {},
   "outputs": [
    {
     "name": "stdout",
     "output_type": "stream",
     "text": [
      "For n_clusters=4, the silhouette score is 0.5846561741869105\n",
      "For n_clusters=4, the calinski score is 4472.584335852707\n",
      "For n_clusters=4, the davis_bouldin score is 0.6700970894273075\n"
     ]
    }
   ],
   "source": [
    "# RFM\n",
    "\n",
    "cluster_labels = kmeans.labels_\n",
    "rfmvd_scaled['Labels'] = cluster_labels\n",
    "silhouette_avg = silhouette_score(rfmvd_scaled[vars], cluster_labels)\n",
    "print(\"For n_clusters={0}, the silhouette score is {1}\".format(n, silhouette_avg))\n",
    "\n",
    "cal_avg = calinski_harabasz_score(rfmvd_scaled[vars], cluster_labels)\n",
    "print(\"For n_clusters={0}, the calinski score is {1}\".format(n, cal_avg))\n",
    "\n",
    "db_index = davies_bouldin_score(rfmvd_scaled[vars], cluster_labels)\n",
    "print(\"For n_clusters={0}, the davis_bouldin score is {1}\".format(n, db_index))\n",
    "\n"
   ]
  },
  {
   "cell_type": "code",
   "execution_count": 453,
   "metadata": {},
   "outputs": [
    {
     "data": {
      "text/plain": [
       "array([[-0.83057114,  1.81727117,  1.96530786],\n",
       "       [ 1.27527923, -0.26333615, -0.284907  ],\n",
       "       [-0.61153739, -0.06939875, -0.06602898],\n",
       "       [-0.75159855, 17.30980617, 15.26386196]])"
      ]
     },
     "execution_count": 453,
     "metadata": {},
     "output_type": "execute_result"
    }
   ],
   "source": [
    "kmeans.cluster_centers_"
   ]
  },
  {
   "cell_type": "code",
   "execution_count": 454,
   "metadata": {},
   "outputs": [
    {
     "data": {
      "image/png": "[encoded data removed]",
      "text/plain": [
       "<Figure size 800x550 with 1 Axes>"
      ]
     },
     "metadata": {},
     "output_type": "display_data"
    }
   ],
   "source": [
    "# RFM clustering graph\n",
    "centroids = kmeans.cluster_centers_\n",
    "u_labels = np.unique(cluster_labels)\n",
    "ax = plt.axes(projection='3d')\n",
    "\n",
    "#plotting the results:\n",
    "for i in u_labels:\n",
    "    ax.scatter(rfmvd_scaled[rfmvd_scaled.Labels == i]['Recency'] , rfmvd_scaled[rfmvd_scaled.Labels == i]['Frequency'] , rfmvd_scaled[rfmvd_scaled.Labels == i]['Monetary'], label = i, zorder=1)\n",
    "\n",
    " # plotting centroids\n",
    "# ax.scatter(centroids[:,0] , centroids[:,1] , centroids[:,2], marker='x', \n",
    "#                 s=1, linewidths=10, color='b', label='centroid', zorder=100)\n",
    "ax.legend()\n",
    "plt.show()"
   ]
  },
  {
   "cell_type": "code",
   "execution_count": 455,
   "metadata": {},
   "outputs": [
    {
     "data": {
      "text/plain": [
       "array([[-0.83057114,  1.81727117,  1.96530786],\n",
       "       [ 1.27527923, -0.26333615, -0.284907  ],\n",
       "       [-0.61153739, -0.06939875, -0.06602898],\n",
       "       [-0.75159855, 17.30980617, 15.26386196]])"
      ]
     },
     "execution_count": 455,
     "metadata": {},
     "output_type": "execute_result"
    }
   ],
   "source": [
    "centroids"
   ]
  },
  {
   "cell_type": "code",
   "execution_count": 456,
   "metadata": {},
   "outputs": [
    {
     "name": "stderr",
     "output_type": "stream",
     "text": [
      "c:\\Users\\pc\\anaconda3\\Lib\\site-packages\\sklearn\\cluster\\_kmeans.py:1412: FutureWarning: The default value of `n_init` will change from 10 to 'auto' in 1.4. Set the value of `n_init` explicitly to suppress the warning\n",
      "  super()._check_params_vs_input(X, default_n_init=10)\n",
      "c:\\Users\\pc\\anaconda3\\Lib\\site-packages\\sklearn\\cluster\\_kmeans.py:1436: UserWarning: KMeans is known to have a memory leak on Windows with MKL, when there are less chunks than available threads. You can avoid it by setting the environment variable OMP_NUM_THREADS=2.\n",
      "  warnings.warn(\n"
     ]
    },
    {
     "name": "stdout",
     "output_type": "stream",
     "text": [
      "197.49500453715186\n"
     ]
    },
    {
     "name": "stderr",
     "output_type": "stream",
     "text": [
      "c:\\Users\\pc\\anaconda3\\Lib\\site-packages\\sklearn\\cluster\\_kmeans.py:1412: FutureWarning: The default value of `n_init` will change from 10 to 'auto' in 1.4. Set the value of `n_init` explicitly to suppress the warning\n",
      "  super()._check_params_vs_input(X, default_n_init=10)\n"
     ]
    },
    {
     "name": "stdout",
     "output_type": "stream",
     "text": [
      "2940.1238797249675\n"
     ]
    },
    {
     "name": "stderr",
     "output_type": "stream",
     "text": [
      "c:\\Users\\pc\\anaconda3\\Lib\\site-packages\\sklearn\\cluster\\_kmeans.py:1412: FutureWarning: The default value of `n_init` will change from 10 to 'auto' in 1.4. Set the value of `n_init` explicitly to suppress the warning\n",
      "  super()._check_params_vs_input(X, default_n_init=10)\n"
     ]
    },
    {
     "name": "stdout",
     "output_type": "stream",
     "text": [
      "3246.269316397096\n"
     ]
    },
    {
     "name": "stderr",
     "output_type": "stream",
     "text": [
      "c:\\Users\\pc\\anaconda3\\Lib\\site-packages\\sklearn\\cluster\\_kmeans.py:1412: FutureWarning: The default value of `n_init` will change from 10 to 'auto' in 1.4. Set the value of `n_init` explicitly to suppress the warning\n",
      "  super()._check_params_vs_input(X, default_n_init=10)\n",
      "c:\\Users\\pc\\anaconda3\\Lib\\site-packages\\sklearn\\cluster\\_kmeans.py:1436: UserWarning: KMeans is known to have a memory leak on Windows with MKL, when there are less chunks than available threads. You can avoid it by setting the environment variable OMP_NUM_THREADS=1.\n",
      "  warnings.warn(\n"
     ]
    },
    {
     "name": "stdout",
     "output_type": "stream",
     "text": [
      "20.192780838315322\n"
     ]
    }
   ],
   "source": [
    "n = 3\n",
    "e = 0.8\n",
    "s = 1000\n",
    "double_cluster_df = pd.DataFrame()\n",
    "centroids_n = []\n",
    "for i in range(len(centroids)):\n",
    "    kmeans = KMeans(n_clusters=n, max_iter=500, random_state=1)\n",
    "    rfm_i = rfmvd_scaled[vars].loc[rfmvd_scaled['Labels'] == i]\n",
    "    kmeans.fit(rfm_i)\n",
    "    # kmeans = AgglomerativeClustering(n_clusters=2)\n",
    "    # kmeans.fit(rfm_i)\n",
    "    labels = [l+(2*(i**2)) for l in kmeans.labels_] \n",
    "    sel_score = calinski_harabasz_score(rfm_i, labels)\n",
    "    print(sel_score)\n",
    "    if sel_score:\n",
    "        rfm_i['Labels'] = labels\n",
    "        # centroids_n.append(kmeans.cluster_centers_)\n",
    "        double_cluster_df = pd.concat([double_cluster_df, rfm_i], ignore_index=True)\n",
    "    else:\n",
    "        rfm_i['Labels'] = 2*(i**2)\n",
    "        # centroids_n.append(kmeans.cluster_centers_)\n",
    "        double_cluster_df = pd.concat([double_cluster_df, rfm_i], ignore_index=True)"
   ]
  },
  {
   "cell_type": "code",
   "execution_count": 457,
   "metadata": {},
   "outputs": [
    {
     "name": "stdout",
     "output_type": "stream",
     "text": [
      "For n_clusters=3, the silhouette score is 0.38104238058880685\n",
      "For n_clusters=3, the calinski score is 3395.2254591432807\n",
      "For n_clusters=3, the davis_bouldin score is 0.934402278844722\n"
     ]
    }
   ],
   "source": [
    "# RFM\n",
    "\n",
    "cluster_labels = double_cluster_df['Labels']\n",
    "rfmvd_scaled['Labels'] = cluster_labels\n",
    "silhouette_avg = silhouette_score(double_cluster_df[vars], cluster_labels)\n",
    "print(\"For n_clusters={0}, the silhouette score is {1}\".format(n, silhouette_avg))\n",
    "\n",
    "cal_avg = calinski_harabasz_score(double_cluster_df[vars], cluster_labels)\n",
    "print(\"For n_clusters={0}, the calinski score is {1}\".format(n, cal_avg))\n",
    "\n",
    "db_index = davies_bouldin_score(double_cluster_df[vars], cluster_labels)\n",
    "print(\"For n_clusters={0}, the davis_bouldin score is {1}\".format(n, db_index))\n",
    "\n"
   ]
  },
  {
   "cell_type": "code",
   "execution_count": 458,
   "metadata": {},
   "outputs": [
    {
     "name": "stdout",
     "output_type": "stream",
     "text": [
      "       Recency  Frequency  Monetary  Labels\n",
      "0    -0.789892   0.712688  1.488044       0\n",
      "1    -0.957425   1.290078  2.940112       0\n",
      "2    -0.952639   1.043084  1.817537       0\n",
      "3    -0.909559   0.930813  1.860521       0\n",
      "4    -0.952639   2.569960  4.989080       1\n",
      "...        ...        ...       ...     ...\n",
      "2395 -0.411745  -0.361899 -0.373073       8\n",
      "2396 -0.842545  -0.262460 -0.211769       9\n",
      "2397  0.095642  -0.377938 -0.387665       8\n",
      "2398 -0.339945  -0.076412  0.037553       8\n",
      "2399 -0.799465   0.080767  0.371445      10\n",
      "\n",
      "[2400 rows x 4 columns]\n"
     ]
    }
   ],
   "source": [
    "print(double_cluster_df.head(2400))"
   ]
  },
  {
   "cell_type": "code",
   "execution_count": 459,
   "metadata": {},
   "outputs": [
    {
     "data": {
      "image/png": "[encoded data removed]",
      "text/plain": [
       "<Figure size 800x550 with 1 Axes>"
      ]
     },
     "metadata": {},
     "output_type": "display_data"
    }
   ],
   "source": [
    "# RFM clustering graph\n",
    "u_labels = np.unique(double_cluster_df[\"Labels\"])\n",
    "\n",
    "ax = plt.axes(projection='3d')\n",
    "\n",
    "#plotting the results:\n",
    "for i in u_labels:\n",
    "    ax.scatter(double_cluster_df[double_cluster_df.Labels == i]['Recency'] , double_cluster_df[double_cluster_df.Labels == i]['Frequency'] , double_cluster_df[double_cluster_df.Labels == i]['Monetary'], label = i, zorder=1)\n",
    "\n",
    " # plotting centroids\n",
    "# ax.scatter(centroids[:,0] , centroids[:,1] , centroids[:,2], marker='x', \n",
    "#                 s=1, linewidths=10, color='b', label='centroid', zorder=100)\n",
    "ax.legend()\n",
    "plt.show()"
   ]
  },
  {
   "cell_type": "code",
   "execution_count": null,
   "metadata": {},
   "outputs": [],
   "source": [
    "# if sel_score:\n",
    "    #     rfm_i['Labels'] = labels\n",
    "    #     # centroids_n.append(kmeans.cluster_centers_)\n",
    "    #     double_cluster_df = pd.concat([double_cluster_df, rfm_i], ignore_index=True)\n",
    "    # else:\n",
    "    #     rfm_i['Labels'] = 2*(i**2)\n",
    "    #     # centroids_n.append(kmeans.cluster_centers_)\n",
    "    #     double_cluster_df = pd.concat([double_cluster_df, rfm_i], ignore_index=True)"
   ]
  },
  {
   "cell_type": "code",
   "execution_count": null,
   "metadata": {},
   "outputs": [],
   "source": [
    "    # labels = [l+(2*(i**2)) for l in kmeans.labels_] # to give each group a unique label\n"
   ]
  },
  {
   "cell_type": "code",
   "execution_count": null,
   "metadata": {},
   "outputs": [],
   "source": []
  },
  {
   "cell_type": "code",
   "execution_count": null,
   "metadata": {},
   "outputs": [],
   "source": []
  },
  {
   "cell_type": "code",
   "execution_count": null,
   "metadata": {},
   "outputs": [],
   "source": []
  },
  {
   "cell_type": "markdown",
   "metadata": {},
   "source": [
    "# SOM"
   ]
  },
  {
   "cell_type": "code",
   "execution_count": null,
   "metadata": {},
   "outputs": [],
   "source": [
    "som_shape = (2, 2)"
   ]
  },
  {
   "cell_type": "code",
   "execution_count": null,
   "metadata": {},
   "outputs": [],
   "source": [
    "som = MiniSom(som_shape[0], som_shape[1], rfmvd_scaled[vars].shape[1], sigma=0.3, learning_rate=0.5, neighborhood_function='gaussian', random_seed=10)\n",
    "som.random_weights_init(rfmvd_scaled[vars].values)\n",
    "som.train_random(rfmvd_scaled[vars].values, 100)"
   ]
  },
  {
   "cell_type": "code",
   "execution_count": null,
   "metadata": {},
   "outputs": [],
   "source": []
  },
  {
   "cell_type": "code",
   "execution_count": null,
   "metadata": {},
   "outputs": [],
   "source": [
    "# each neuron represents a cluster\n",
    "winner_coordinates = np.array([som.winner(x) for x in rfmvd_scaled[vars].values]).T\n",
    "# with np.ravel_multi_index we convert the bidimensional\n",
    "# coordinates to a monodimensional index\n",
    "cluster_index = np.ravel_multi_index(winner_coordinates, som_shape)"
   ]
  },
  {
   "cell_type": "code",
   "execution_count": null,
   "metadata": {},
   "outputs": [
    {
     "name": "stdout",
     "output_type": "stream",
     "text": [
      "For n_clusters=4, the silhouette score is 0.2876873478905792\n",
      "For n_clusters=4, the calinski score is 891.9287502673657\n",
      "For n_clusters=4, the davis_bouldin score is 1.2511280051817195\n"
     ]
    }
   ],
   "source": [
    "cluster_labels = cluster_index\n",
    "rfmvd_scaled['Labels'] = cluster_labels\n",
    "silhouette_avg = silhouette_score(rfmvd_scaled[vars], cluster_labels)\n",
    "print(\"For n_clusters={0}, the silhouette score is {1}\".format(n, silhouette_avg))\n",
    "\n",
    "cal_avg = calinski_harabasz_score(rfmvd_scaled[vars], cluster_labels)\n",
    "print(\"For n_clusters={0}, the calinski score is {1}\".format(n, cal_avg))\n",
    "\n",
    "db_index = davies_bouldin_score(rfmvd_scaled[vars], cluster_labels)\n",
    "print(\"For n_clusters={0}, the davis_bouldin score is {1}\".format(n, db_index))"
   ]
  },
  {
   "cell_type": "code",
   "execution_count": null,
   "metadata": {},
   "outputs": [
    {
     "data": {
      "text/plain": [
       "<matplotlib.legend.Legend at 0x2bde6176650>"
      ]
     },
     "metadata": {},
     "output_type": "display_data"
    },
    {
     "data": {
      "image/png": "[encoded data removed]",
      "text/plain": [
       "<Figure size 800x550 with 1 Axes>"
      ]
     },
     "metadata": {},
     "output_type": "display_data"
    }
   ],
   "source": [
    "import matplotlib.pyplot as plt\n",
    "%matplotlib inline\n",
    "\n",
    "# plotting the clusters using the first 2 dimentions of the data\n",
    "for c in np.unique(cluster_index):\n",
    "    plt.scatter(rfmvd_scaled[vars].values[cluster_index == c, 0],\n",
    "                rfmvd_scaled[vars].values[cluster_index == c, 1], label='cluster='+str(c), alpha=.7)\n",
    "\n",
    "# plotting centroids\n",
    "for centroid in som.get_weights():\n",
    "    plt.scatter(centroid[:, 0], centroid[:, 1], marker='x', \n",
    "                s=3, linewidths=10, color='k', label='centroid')\n",
    "plt.legend()"
   ]
  },
  {
   "cell_type": "code",
   "execution_count": null,
   "metadata": {},
   "outputs": [],
   "source": [
    "# labels = [last_v+i+l for l in kmeans.labels_]\n",
    "    # last_v = last_v + i + (nn-1)"
   ]
  },
  {
   "cell_type": "code",
   "execution_count": null,
   "metadata": {},
   "outputs": [],
   "source": []
  }
 ],
 "metadata": {
  "kernelspec": {
   "display_name": "env1",
   "language": "python",
   "name": "python3"
  },
  "language_info": {
   "codemirror_mode": {
    "name": "ipython",
    "version": 3
   },
   "file_extension": ".py",
   "mimetype": "text/x-python",
   "name": "python",
   "nbconvert_exporter": "python",
   "pygments_lexer": "ipython3",
   "version": "3.11.5"
  },
  "orig_nbformat": 4
 },
 "nbformat": 4,
 "nbformat_minor": 2
}
